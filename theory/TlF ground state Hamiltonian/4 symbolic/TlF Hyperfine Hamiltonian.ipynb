{
 "cells": [
  {
   "cell_type": "markdown",
   "metadata": {},
   "source": [
    "# TlF ground state spectrum\n",
    "\n",
    "Using the Hamiltonian from Table 1 of [D.A. Wilkening, N.F. Ramsey, and D.J. Larson, Phys Rev A **29**, 425 (1984)](https://journals.aps.org/pra/abstract/10.1103/PhysRevA.29.425).\n",
    "\n",
    "![ramsey1](ramsey1.png)\n",
    "\n",
    "First import necessary Python packages:"
   ]
  },
  {
   "cell_type": "code",
   "execution_count": 24,
   "metadata": {},
   "outputs": [],
   "source": [
    "import numpy as np\n",
    "import sympy\n",
    "from sympy import sqrt\n",
    "import multiprocessing\n",
    "import pickle"
   ]
  },
  {
   "cell_type": "markdown",
   "metadata": {},
   "source": [
    "### Representing the states\n",
    "\n",
    "A state, in general, can be written as a weighted superposition of the basis states. We work in the basis $|J, m_J, I_1, m_1, I_2, m_2\\rangle$.\n",
    "\n",
    "The operations we can define on the basis states are:\n",
    "\n",
    "- construction: e.g. calling `BasisState(QN)` creates a basis state with quantum numbers `QN = (J, mJ, I1, m1, I2, m2)`;\n",
    "- equality testing;\n",
    "- inner product, returning either 0 or 1;\n",
    "- superposition and scalar multiplication, returning a `State` object\n",
    "- a convenience function to print out all quantum numbers"
   ]
  },
  {
   "cell_type": "code",
   "execution_count": 2,
   "metadata": {},
   "outputs": [],
   "source": [
    "class BasisState:\n",
    "    # constructor\n",
    "    def __init__(self, J, mJ, I1, m1, I2, m2):\n",
    "        self.J, self.mJ  = J, mJ\n",
    "        self.I1, self.m1 = I1, m1\n",
    "        self.I2, self.m2 = I2, m2\n",
    "\n",
    "    # equality testing\n",
    "    def __eq__(self, other):\n",
    "        return self.J==other.J and self.mJ==other.mJ \\\n",
    "                    and self.I1==other.I1 and self.I2==other.I2 \\\n",
    "                    and self.m1==other.m1 and self.m2==other.m2\n",
    "\n",
    "    # inner product\n",
    "    def __matmul__(self, other):\n",
    "        if self == other:\n",
    "            return 1\n",
    "        else:\n",
    "            return 0\n",
    "\n",
    "    # superposition: addition\n",
    "    def __add__(self, other):\n",
    "        if self == other:\n",
    "            return State([ (2,self) ])\n",
    "        else:\n",
    "            return State([\n",
    "                (1,self), (1,other)\n",
    "            ])\n",
    "\n",
    "    # superposition: subtraction\n",
    "    def __sub__(self, other):\n",
    "        return self + (-1)*other\n",
    "\n",
    "    # scalar product (psi * a)\n",
    "    def __mul__(self, a):\n",
    "        return State([ (a, self) ])\n",
    "\n",
    "    # scalar product (a * psi)\n",
    "    def __rmul__(self, a):\n",
    "        return self * a\n",
    "    \n",
    "    def print_quantum_numbers(self):\n",
    "        print( self.J,\"%+d\"%self.mJ,\"%+0.1f\"%self.m1,\"%+0.1f\"%self.m2 )"
   ]
  },
  {
   "cell_type": "markdown",
   "metadata": {},
   "source": [
    "A general state `State` can have any number of components, so let's represent it as an list of pairs `(amp, psi)`, where `amp` is the relative amplitude of a component, and `psi` is a basis state. The same component must not appear twice on the list.\n",
    "\n",
    "There are three operations we can define on the states:\n",
    "\n",
    "- construction\n",
    "- superposition: concatenate component arrays and return a `State`\n",
    "- scalar multiplication `a * psi` and `psi * a`, division, negation\n",
    "- component-wise inner product `psi1 @ psi2`, where `psi1` is a bra, and `psi2` a ket, returning a complex number\n",
    "\n",
    "In addition, I define an iterator method to loop through the components, and the `__getitem__()` method to access the components (which are not necessarily in any particular order!). See [Classes/Iterators](https://docs.python.org/3/tutorial/classes.html#iterators) for details."
   ]
  },
  {
   "cell_type": "code",
   "execution_count": 3,
   "metadata": {},
   "outputs": [],
   "source": [
    "class State:\n",
    "    # constructor\n",
    "    def __init__(self, data=[], remove_zero_amp_cpts=True):\n",
    "        # check for duplicates\n",
    "        for i in range(len(data)):\n",
    "            amp1,cpt1 = data[i][0], data[i][1]\n",
    "            for amp2,cpt2 in data[i+1:]:\n",
    "                if cpt1 == cpt2:\n",
    "                    raise AssertionError(\"duplicate components!\")\n",
    "        # remove components with zero amplitudes\n",
    "        if remove_zero_amp_cpts:\n",
    "            self.data = [(amp,cpt) for amp,cpt in data if amp!=0]\n",
    "        else:\n",
    "            self.data = data\n",
    "        # for iteration over the State\n",
    "        self.index = len(self.data)\n",
    "\n",
    "    # superposition: addition\n",
    "    # (highly inefficient and ugly but should work)\n",
    "    def __add__(self, other):\n",
    "        data = []\n",
    "        # add components that are in self but not in other\n",
    "        for amp1,cpt1 in self.data:\n",
    "            only_in_self = True\n",
    "            for amp2,cpt2 in other.data:\n",
    "                if cpt2 == cpt1:\n",
    "                    only_in_self = False\n",
    "            if only_in_self:\n",
    "                data.append((amp1,cpt1))\n",
    "        # add components that are in other but not in self\n",
    "        for amp1,cpt1 in other.data:\n",
    "            only_in_other = True\n",
    "            for amp2,cpt2 in self.data:\n",
    "                if cpt2 == cpt1:\n",
    "                    only_in_other = False\n",
    "            if only_in_other:\n",
    "                data.append((amp1,cpt1))\n",
    "        # add components that are both in self and in other\n",
    "        for amp1,cpt1 in self.data:\n",
    "            for amp2,cpt2 in other.data:\n",
    "                if cpt2 == cpt1:\n",
    "                    data.append((amp1+amp2,cpt1))\n",
    "        return State(data)\n",
    "                \n",
    "    # superposition: subtraction\n",
    "    def __sub__(self, other):\n",
    "        return self + -1*other\n",
    "\n",
    "    # scalar product (psi * a)\n",
    "    def __mul__(self, a):\n",
    "        return State( [(a*amp,psi) for amp,psi in self.data] )\n",
    "\n",
    "    # scalar product (a * psi)\n",
    "    def __rmul__(self, a):\n",
    "        return self * a\n",
    "    \n",
    "    # scalar division (psi / a)\n",
    "    def __truediv__(self, a):\n",
    "        return self * (1/a)\n",
    "    \n",
    "    # negation\n",
    "    def __neg__(self):\n",
    "        return -1 * self\n",
    "    \n",
    "    # inner product\n",
    "    def __matmul__(self, other):\n",
    "        result = 0\n",
    "        for amp1,psi1 in self.data:\n",
    "            for amp2,psi2 in other.data:\n",
    "                result += amp1.conjugate()*amp2 * (psi1@psi2)\n",
    "        return result\n",
    "\n",
    "    # iterator methods\n",
    "    def __iter__(self):\n",
    "        return self\n",
    "    \n",
    "    def __next__(self):\n",
    "        if self.index == 0:\n",
    "            raise StopIteration\n",
    "        self.index -= 1\n",
    "        return self.data[self.index]\n",
    "    \n",
    "    # direct access to a component\n",
    "    def __getitem__(self, i):\n",
    "        return self.data[i]"
   ]
  },
  {
   "cell_type": "markdown",
   "metadata": {},
   "source": [
    "### Operators in Python\n",
    "\n",
    "Define QM operators as Python functions that take `BasisState` objects, and return `State` objects. Since we are interested in finding matrix elements, we only need the action of operators on the basis states (but it'd be easy to generalize using a `for` loop).\n",
    "\n",
    "The easiest operators to define are the diagonal ones $J^2, J_z, I_{1z}, I_{2z}$, which just multiply the state by their eigenvalue:"
   ]
  },
  {
   "cell_type": "code",
   "execution_count": 4,
   "metadata": {},
   "outputs": [],
   "source": [
    "def J2(psi):\n",
    "    return State([(psi.J*(psi.J+1),psi)])\n",
    "\n",
    "def Jz(psi):\n",
    "    return State([(psi.mJ,psi)])\n",
    "\n",
    "def I1z(psi):\n",
    "    return State([(psi.m1,psi)])\n",
    "\n",
    "def I2z(psi):\n",
    "    return State([(psi.m2,psi)])"
   ]
  },
  {
   "cell_type": "markdown",
   "metadata": {},
   "source": [
    "The other angular momentum operators we can obtain through the ladder operators\n",
    "\n",
    "$$ J_\\pm=J_x\\pm iJ_y. $$\n",
    "\n",
    "These are defined through their action on the basis states as (Sakurai eqns 3.5.39-40)\n",
    "\n",
    "$$ J_\\pm|J,m\\rangle=\\sqrt{(j\\mp m)(j\\pm m+1)}|jm\\pm1\\rangle. $$\n",
    "\n",
    "Similarly, $I_{1\\pm},I_{2\\pm}$ act on the $|I_1,m_1\\rangle$ and $|I_2,m_2\\rangle$ subspaces in the same way."
   ]
  },
  {
   "cell_type": "code",
   "execution_count": 5,
   "metadata": {},
   "outputs": [],
   "source": [
    "def Jp(psi):\n",
    "    amp = sqrt((psi.J-psi.mJ)*(psi.J+psi.mJ+1))\n",
    "    ket = BasisState(psi.J, psi.mJ+1, psi.I1, psi.m1, psi.I2, psi.m2)\n",
    "    return State([(amp,ket)])\n",
    "\n",
    "def Jm(psi):\n",
    "    amp = sqrt((psi.J+psi.mJ)*(psi.J-psi.mJ+1))\n",
    "    ket = BasisState(psi.J, psi.mJ-1, psi.I1, psi.m1, psi.I2, psi.m2)\n",
    "    return State([(amp,ket)])\n",
    "\n",
    "def I1p(psi):\n",
    "    amp = sqrt((psi.I1-psi.m1)*(psi.I1+psi.m1+1))\n",
    "    ket = BasisState(psi.J, psi.mJ, psi.I1, psi.m1+1, psi.I2, psi.m2)\n",
    "    return State([(amp,ket)])\n",
    "\n",
    "def I1m(psi):\n",
    "    amp = sqrt((psi.I1+psi.m1)*(psi.I1-psi.m1+1))\n",
    "    ket = BasisState(psi.J, psi.mJ, psi.I1, psi.m1-1, psi.I2, psi.m2)\n",
    "    return State([(amp,ket)])\n",
    "\n",
    "def I2p(psi):\n",
    "    amp = sqrt((psi.I2-psi.m2)*(psi.I2+psi.m2+1))\n",
    "    ket = BasisState(psi.J, psi.mJ, psi.I1, psi.m1, psi.I2, psi.m2+1)\n",
    "    return State([(amp,ket)])\n",
    "\n",
    "def I2m(psi):\n",
    "    amp = sqrt((psi.I2+psi.m2)*(psi.I2-psi.m2+1))\n",
    "    ket = BasisState(psi.J, psi.mJ, psi.I1, psi.m1, psi.I2, psi.m2-1)\n",
    "    return State([(amp,ket)])"
   ]
  },
  {
   "cell_type": "markdown",
   "metadata": {},
   "source": [
    "In terms of the above-defined ladder operators, we can write\n",
    "\n",
    "$$J_x=\\frac{1}{2}(J_++J_-);\\quad\n",
    "J_y=\\frac{1}{2i}(J_+-J_-),$$\n",
    "\n",
    "and similarly for $I_{1x}, I_{1y}$ and $I_{2x}, I_{2y}$."
   ]
  },
  {
   "cell_type": "code",
   "execution_count": 6,
   "metadata": {},
   "outputs": [],
   "source": [
    "def Jx(psi):\n",
    "    return half*( Jp(psi) + Jm(psi) )\n",
    "\n",
    "def Jy(psi):\n",
    "    return -half*sympy.I*( Jp(psi) - Jm(psi) )\n",
    "\n",
    "def I1x(psi):\n",
    "    return half*( I1p(psi) + I1m(psi) )\n",
    "\n",
    "def I1y(psi):\n",
    "    return -half*sympy.I*( I1p(psi) - I1m(psi) )\n",
    "\n",
    "def I2x(psi):\n",
    "    return half*( I2p(psi) + I2m(psi) )\n",
    "\n",
    "def I2y(psi):\n",
    "    return -half*sympy.I*( I2p(psi) - I2m(psi) )"
   ]
  },
  {
   "cell_type": "markdown",
   "metadata": {},
   "source": [
    "### Composition of operators\n",
    "\n",
    "All operators defined above can only accept `BasisStates` as their inputs, and they all return `States` as output. To allow composition of operators,\n",
    "\n",
    "$$\\hat A\\hat B|\\psi\\rangle=\\hat A(\\hat B(|\\psi\\rangle)),$$\n",
    "\n",
    "define the following function."
   ]
  },
  {
   "cell_type": "code",
   "execution_count": 7,
   "metadata": {},
   "outputs": [],
   "source": [
    "def com(A, B, psi):\n",
    "    ABpsi = State()\n",
    "    # operate with A on all components in B|psi>\n",
    "    for amp,cpt in B(psi):\n",
    "        ABpsi += amp * A(cpt)\n",
    "    return ABpsi"
   ]
  },
  {
   "cell_type": "markdown",
   "metadata": {},
   "source": [
    "### Rotational term\n",
    "\n",
    "The simplest term in the Hamiltonian simply gives the rotational levels:\n",
    "\n",
    "$$H_\\text{rot}=B_\\text{rot}\\vec J^2.$$"
   ]
  },
  {
   "cell_type": "code",
   "execution_count": 8,
   "metadata": {},
   "outputs": [],
   "source": [
    "def Hrot(psi):\n",
    "    return Brot * J2(psi)"
   ]
  },
  {
   "cell_type": "markdown",
   "metadata": {},
   "source": [
    "### Terms with ang. momentum dot products\n",
    "\n",
    "Note that the dot product of two angular momentum operators can be written in terms of the ladder operators as\n",
    "\n",
    "$$\\vec A\\cdot\\vec B=A_zB_z+\\frac{1}{2}(A_+B_-+A_-B_+).$$\n",
    "\n",
    "We have the following terms (from Table 1 of Ramsey's paper):\n",
    "\n",
    "$$\n",
    "H_\\text{c1}=c_1\\vec I_1\\cdot\\vec J;\\quad\n",
    "H_\\text{c2}=c_2\\vec I_2\\cdot\\vec J;\\quad\n",
    "H_\\text{c4}=c_4\\vec I_1\\cdot\\vec I_2\\\\\n",
    "H_\\text{c3a}=15c_3\\frac{(\\vec I_1\\cdot\\vec J)(\\vec I_2\\cdot\\vec J)}{(2J+3)(2J-1)}\n",
    "=\\frac{15c_3}{c_1c_2}\\frac{H_\\text{c1}H_\\text{c2}}{(2J+3)(2J-1)}\\\\\n",
    "H_\\text{c3b}=15c_3\\frac{(\\vec I_2\\cdot\\vec J)(\\vec I_1\\cdot\\vec J)}{(2J+3)(2J-1)}\n",
    "=\\frac{15c_3}{c_1c_2}\\frac{H_\\text{c2}H_\\text{c1}}{(2J+3)(2J-1)}\\\\\n",
    "H_\\text{c3c}=-10c_3\\frac{(\\vec I_1\\cdot\\vec I_2)\\vec J^2}{(2J+3)(2J-1)}\n",
    "=\\frac{-10c_3}{c_4 B_\\text{rot}}\\frac{H_\\text{c4}H_\\text{rot}}{(2J+3)(2J-1)}\n",
    "$$"
   ]
  },
  {
   "cell_type": "code",
   "execution_count": 9,
   "metadata": {},
   "outputs": [],
   "source": [
    "def Hc1(psi):\n",
    "    return c1 * ( com(I1z,Jz,psi) + half*(com(I1p,Jm,psi)+com(I1m,Jp,psi)) )\n",
    "\n",
    "def Hc2(psi):\n",
    "    return c2 * ( com(I2z,Jz,psi) + half*(com(I2p,Jm,psi)+com(I2m,Jp,psi)) )\n",
    "\n",
    "def Hc4(psi):\n",
    "    return c4 * ( com(I1z,I2z,psi) + half*(com(I1p,I2m,psi)+com(I1m,I2p,psi)) )\n",
    "\n",
    "def Hc3a(psi):\n",
    "    return 15*c3/c1/c2 * com(Hc1,Hc2,psi) / ((2*psi.J+3)*(2*psi.J-1))\n",
    "\n",
    "def Hc3b(psi):\n",
    "    return 15*c3/c1/c2 * com(Hc2,Hc1,psi) / ((2*psi.J+3)*(2*psi.J-1))\n",
    "\n",
    "def Hc3c(psi):\n",
    "    return -10*c3/c4/Brot * com(Hc4,Hrot,psi) / ((2*psi.J+3)*(2*psi.J-1))"
   ]
  },
  {
   "cell_type": "markdown",
   "metadata": {},
   "source": [
    "The overall field-free Hamiltonian is"
   ]
  },
  {
   "cell_type": "code",
   "execution_count": 10,
   "metadata": {},
   "outputs": [],
   "source": [
    "def Hff(psi):\n",
    "    return Hrot(psi) + Hc1(psi) + Hc2(psi) + Hc3a(psi) + Hc3b(psi) \\\n",
    "            + Hc3c(psi) + Hc4(psi)"
   ]
  },
  {
   "cell_type": "markdown",
   "metadata": {},
   "source": [
    "### Zeeman Hamiltonian\n",
    "\n",
    "In order to separate the task of finding the matrix elements and the eigenvalues, the Hamiltonian\n",
    "\n",
    "$$H^\\text{Z}=-\\frac{\\mu_J}{J}(\\vec J\\cdot\\vec B)-\\frac{\\mu_1}{I_1}(\\vec I_1\\cdot\\vec B)-\\frac{\\mu_2}{I_2}(\\vec I_2\\cdot\\vec B)$$\n",
    "\n",
    "is best split into three matrices:\n",
    "\n",
    "$$H^\\text{Z}=B_xH^\\text{Z}_x+B_yH^\\text{Z}_y+B_zH^\\text{Z}_z,$$\n",
    "\n",
    "where\n",
    "\n",
    "$$ H^\\text{Z}_x = -\\frac{\\mu_J}{J}J_x -\\frac{\\mu_1}{I_1}I_{1x} -\\frac{\\mu_2}{I_2}I_{2x} $$\n",
    "$$ H^\\text{Z}_y = -\\frac{\\mu_J}{J}J_y -\\frac{\\mu_1}{I_1}I_{1y} -\\frac{\\mu_2}{I_2}I_{2y} $$\n",
    "$$ H^\\text{Z}_z = -\\frac{\\mu_J}{J}J_z -\\frac{\\mu_1}{I_1}I_{1z} -\\frac{\\mu_2}{I_2}I_{2z} $$\n",
    "\n",
    "Note that we are using the convention $\\mu_1=\\mu_\\text{Tl}$ and $\\mu_2=\\mu_\\text{F}$. The terms involving division by $J$ are only valid for states with $J\\ne0$ (of course!)."
   ]
  },
  {
   "cell_type": "code",
   "execution_count": 11,
   "metadata": {},
   "outputs": [],
   "source": [
    "def HZx(psi):\n",
    "    if psi.J != 0:\n",
    "        return -mu_J/psi.J*Jx(psi) - mu_Tl/psi.I1*I1x(psi) - mu_F/psi.I2*I2x(psi)\n",
    "    else:\n",
    "        return -mu_Tl/psi.I1*I1x(psi) - mu_F/psi.I2*I2x(psi)\n",
    "\n",
    "def HZy(psi):\n",
    "    if psi.J != 0:\n",
    "        return -mu_J/psi.J*Jy(psi) - mu_Tl/psi.I1*I1y(psi) - mu_F/psi.I2*I2y(psi)\n",
    "    else:\n",
    "        return -mu_Tl/psi.I1*I1y(psi) - mu_F/psi.I2*I2y(psi)\n",
    "    \n",
    "def HZz(psi):\n",
    "    if psi.J != 0:\n",
    "        return -mu_J/psi.J*Jz(psi) - mu_Tl/psi.I1*I1z(psi) - mu_F/psi.I2*I2z(psi)\n",
    "    else:\n",
    "        return -mu_Tl/psi.I1*I1z(psi) - mu_F/psi.I2*I2z(psi)"
   ]
  },
  {
   "cell_type": "markdown",
   "metadata": {},
   "source": [
    "### Stark Hamiltonian\n",
    "\n",
    "Again splitting the Hamiltonian into the three spatial components, we have\n",
    "\n",
    "$$H^\\text{S}=-\\vec d\\cdot\\vec E\n",
    "=E_xH^\\text{S}_x+E_yH^\\text{S}_y+E_zH^\\text{S}_z.$$\n",
    "\n",
    "To find the effect of the electric dipole operators (written in terms of the spherical harmonics)\n",
    "\n",
    "$$\\vec d\n",
    "=d_\\text{TlF}\\begin{pmatrix}\\hat d_x\\\\\\hat d_y\\\\\\hat d_z\\end{pmatrix}\n",
    "=d_\\text{TlF}\\begin{pmatrix}\\sin\\theta\\cos\\phi\\\\\\sin\\theta\\sin\\phi\\\\\\cos\\theta\\end{pmatrix}\n",
    "=d_\\text{TlF}\\sqrt{\\frac{2\\pi}{3}}\\begin{pmatrix}\n",
    "Y_1^{-1}-Y_1^1\\\\\n",
    "i(Y_1^{-1}+Y_1^1)\\\\\n",
    "\\sqrt2Y_1^0\\end{pmatrix}$$\n",
    "\n",
    "on the eigenstates $|J,m,\\ldots\\rangle$, we need to find their matrix elements. The wavefunctions are $\\langle\\theta,\\phi|J,m\\rangle=Y_J^m$, so the matrix elements of the spherical harmonics are\n",
    "\n",
    "$$\n",
    "\\langle J',m'|Y_1^M||J,m\\rangle\n",
    "=\\int(Y_{J'}^{m'})^*Y_1^MY_J^md\\Omega\n",
    "=(-1)^{m}\\int(Y_{J'}^{m'})^*(Y_1^{-M})^*Y_J^md\\Omega.\n",
    "$$\n",
    "\n",
    "According to [Wikipedia](https://en.wikipedia.org/wiki/Clebsch%E2%80%93Gordan_coefficients#Relation_to_spherical_harmonics), this evaluates to\n",
    "\n",
    "$$\n",
    "\\sqrt{\\frac{2\\pi}{3}}\n",
    "\\langle J',m'|Y_1^M||J,m\\rangle\n",
    "=(-1)^{M}\n",
    " \\sqrt{\\frac{(2 J' + 1)}{2(2 J + 1)}}\n",
    "    \\langle J' \\, 0 \\, 1 \\, 0 | J \\, 0 \\rangle\n",
    "    \\langle J' \\, m' \\, 1 \\, -M | J \\, m \\rangle\n",
    "$$\n",
    "\n",
    "This can be partially evaluated using the following Mathematica function:\n",
    "\n",
    "```mathematica\n",
    "coeffs[M_] := Table[(-1)^M Sqrt[(2 Jp + 1)/(2 (2 J + 1))]\n",
    "     ClebschGordan[{Jp, mp}, {1, -M}, {J, m}]\n",
    "     ClebschGordan[{Jp, 0}, {1, 0}, {J, 0}] // FullSimplify,\n",
    "   {mp, {m - 1, m, m + 1}}, {Jp, {J - 1, J + 1}}\n",
    "   ] // MatrixForm\n",
    "```\n",
    "\n",
    "The result for $M=0$ is nonzero for $m'=m$:\n",
    "\n",
    "$$\n",
    "\\begin{aligned}\n",
    "\\sqrt{\\frac{(J-m)(J+m)}{8J^2-2}}&\\quad\\text{for $J'=J-1$}\\\\\n",
    "\\sqrt{\\frac{(J-m+1)(J+m+1)}{6+8J(J+2)}}&\\quad\\text{for $J'=J+1$}\n",
    "\\end{aligned}\n",
    "$$\n",
    "\n",
    "For $M=-1$, we need $m'=m-1$:\n",
    "\n",
    "$$\n",
    "\\begin{aligned}\n",
    "-\\frac{1}{2}\n",
    "\\sqrt{\\frac{(J+m)(J-1+m)}{4J^2-1}}&\\quad\\text{for $J'=J-1$}\\\\\n",
    "\\frac{1}{2}\n",
    "\\sqrt{\\frac{(J+1-m)(J+2-m)}{3+4J(J+2)}}&\\quad\\text{for $J'=J+1$}\n",
    "\\end{aligned}\n",
    "$$\n",
    "\n",
    "For $M=1$, we need $m'=m+1$:\n",
    "\n",
    "$$\n",
    "\\begin{aligned}\n",
    "-\\frac{1}{2}\n",
    "\\sqrt{\\frac{(J-m)(J-1-m)}{4J^2-1}}&\\quad\\text{for $J'=J-1$}\\\\\n",
    "\\frac{1}{2}\n",
    "\\sqrt{\\frac{(J+1+m)(J+2+m)}{3+4J(J+2)}}&\\quad\\text{for $J'=J+1$}\n",
    "\\end{aligned}\n",
    "$$\n",
    "\n",
    "These three cases can be written in Python as the operators:"
   ]
  },
  {
   "cell_type": "code",
   "execution_count": 12,
   "metadata": {},
   "outputs": [],
   "source": [
    "def R10(psi):\n",
    "    amp1 = sqrt((psi.J-psi.mJ)*(psi.J+psi.mJ)/(8*psi.J**2-2))\n",
    "    ket1 = BasisState(psi.J-1, psi.mJ, psi.I1, psi.m1, psi.I2, psi.m2)\n",
    "    amp2 = sqrt((psi.J-psi.mJ+1)*(psi.J+psi.mJ+1)/(6+8*psi.J*(psi.J+2)))\n",
    "    ket2 = BasisState(psi.J+1, psi.mJ, psi.I1, psi.m1, psi.I2, psi.m2)\n",
    "    return State([(amp1,ket1),(amp2,ket2)])\n",
    "\n",
    "def R1m(psi):\n",
    "    amp1 = -half*sqrt((psi.J+psi.mJ)*(psi.J+psi.mJ-1)/(4*psi.J**2-1))\n",
    "    ket1 = BasisState(psi.J-1, psi.mJ-1, psi.I1, psi.m1, psi.I2, psi.m2)\n",
    "    amp2 = half*sqrt((psi.J-psi.mJ+1)*(psi.J-psi.mJ+2)/(3+4*psi.J*(psi.J+2)))\n",
    "    ket2 = BasisState(psi.J+1, psi.mJ-1, psi.I1, psi.m1, psi.I2, psi.m2)\n",
    "    return State([(amp1,ket1),(amp2,ket2)])\n",
    "\n",
    "def R1p(psi):\n",
    "    amp1 = -half*sqrt((psi.J-psi.mJ)*(psi.J-psi.mJ-1)/(4*psi.J**2-1))\n",
    "    ket1 = BasisState(psi.J-1, psi.mJ+1, psi.I1, psi.m1, psi.I2, psi.m2)\n",
    "    amp2 = half*sqrt((psi.J+psi.mJ+1)*(psi.J+psi.mJ+2)/(3+4*psi.J*(psi.J+2)))\n",
    "    ket2 = BasisState(psi.J+1, psi.mJ+1, psi.I1, psi.m1, psi.I2, psi.m2)\n",
    "    return State([(amp1,ket1),(amp2,ket2)])"
   ]
  },
  {
   "cell_type": "markdown",
   "metadata": {},
   "source": [
    "In terms of the operators\n",
    "\n",
    "$$\n",
    "R^M_1\\equiv\\sqrt{\\frac{2\\pi}{3}}Y_1^M\n",
    "$$\n",
    "\n",
    "and the molecular dipole moment $d_\\text{TlF}$, the three Stark Hamiltonians are\n",
    "\n",
    "$$\n",
    "\\begin{align}\n",
    "H^\\text{S}_x&=-d_\\text{TlF}(R^{-1}_1-R^1_1)\\\\\n",
    "H^\\text{S}_y&=-d_\\text{TlF}i(R^{-1}_1+R^1_1)\\\\\n",
    "H^\\text{S}_z&=-d_\\text{TlF}\\sqrt2R^0_1\n",
    "\\end{align}\n",
    "$$\n",
    "\n",
    "In Python:"
   ]
  },
  {
   "cell_type": "code",
   "execution_count": 13,
   "metadata": {},
   "outputs": [],
   "source": [
    "def HSx(psi):\n",
    "    return -D_TlF * ( R1m(psi) - R1p(psi) )\n",
    "\n",
    "def HSy(psi):\n",
    "    return -D_TlF * sympy.I * ( R1m(psi) + R1p(psi) )\n",
    "\n",
    "def HSz(psi):\n",
    "    return -D_TlF * sqrt(2)*R10(psi)"
   ]
  },
  {
   "cell_type": "markdown",
   "metadata": {},
   "source": [
    "### An alternative $c_3$ term\n",
    "\n",
    "The $c_3$ term in Ramsey's Hamiltonian assumes that $J$ is a good quantum number, which breaks down at high $E$ field. From [Wikipedia](https://en.wikipedia.org/wiki/Hyperfine_structure#Molecular_hyperfine_structure), we get the term\n",
    "\n",
    "$$\n",
    "H_\\text{c3}^\\text{alt}=\\frac{5}{2}c_3\\left[\n",
    "2\\vec I_1\\vec I_2\n",
    "-3(\\vec I_1\\cdot\\vec{\\hat{R}})(\\vec I_2\\cdot\\vec{\\hat{R}})\n",
    "-3(\\vec I_2\\cdot\\vec{\\hat{R}})(\\vec I_1\\cdot\\vec{\\hat{R}})\n",
    "\\right].\n",
    "$$\n",
    "\n",
    "Write the dot products in the form\n",
    "\n",
    "$$\n",
    "H_\\text{I1R}=\\vec I_1\\cdot\\vec{\\hat{R}}=I_{1z}R_1^0+\\frac{1}{2}(I_{1+}R_1^{-1}+I_{1-}R_1^{1})\\\\\n",
    "H_\\text{I2R}=\\vec I_2\\cdot\\vec{\\hat{R}}=I_{2z}R_1^0+\\frac{1}{2}(I_{2+}R_1^{-1}+I_{2-}R_1^{1}),\n",
    "$$\n",
    "\n",
    "as follows:"
   ]
  },
  {
   "cell_type": "code",
   "execution_count": 14,
   "metadata": {},
   "outputs": [],
   "source": [
    "def HI1R(psi):\n",
    "    return com(I1z,R10,psi) + half*(com(I1p,R1m,psi)+com(I1m,R1p,psi))\n",
    "\n",
    "def HI2R(psi):\n",
    "    return com(I2z,R10,psi) + half*(com(I2p,R1m,psi)+com(I2m,R1p,psi))"
   ]
  },
  {
   "cell_type": "markdown",
   "metadata": {},
   "source": [
    "The $c_3$ term becomes\n",
    "\n",
    "$$\n",
    "H_\\text{c3}^\\text{alt}=\\frac{5}{2}c_3\\left[\n",
    "\\frac{2}{c_4}H_\\text{c4}-3H_\\text{I1R}H_\\text{I2R}-3H_\\text{I2R}H_\\text{I1R}\n",
    "\\right].\n",
    "$$\n",
    "\n",
    "In Python:"
   ]
  },
  {
   "cell_type": "code",
   "execution_count": 15,
   "metadata": {},
   "outputs": [],
   "source": [
    "def Hc3_alt(psi):\n",
    "    return 5*c3/c4*Hc4(psi) - 15*c3/2*(com(HI1R,HI2R,psi)+com(HI2R,HI1R,psi))"
   ]
  },
  {
   "cell_type": "markdown",
   "metadata": {},
   "source": [
    "The corresponding alternative field-free Hamiltonian is"
   ]
  },
  {
   "cell_type": "code",
   "execution_count": 16,
   "metadata": {},
   "outputs": [],
   "source": [
    "def Hff_alt(psi):\n",
    "    return Hrot(psi) + Hc1(psi) + Hc2(psi) + Hc3_alt(psi) + Hc4(psi)"
   ]
  },
  {
   "cell_type": "markdown",
   "metadata": {},
   "source": [
    "### Finding the matrix elements\n",
    "\n",
    "With all the operators defined, we can evaluate the matrix elements for a given range of quantum numbers. We shall need to generate a non-integer range list (e.g., from -3/2 to +3/2):"
   ]
  },
  {
   "cell_type": "code",
   "execution_count": 17,
   "metadata": {},
   "outputs": [],
   "source": [
    "def ni_range(x0, x1, dx=1):\n",
    "    # sanity check arguments\n",
    "    if dx==0:\n",
    "        raise ValueError(\"invalid parameters: dx==0\")\n",
    "    if x0>x1 and dx>=0:\n",
    "        raise ValueError(\"invalid parameters: x0>x1 and dx>=0\")\n",
    "    if x0<x1 and dx<=0:\n",
    "        raise ValueError(\"invalid parameters: x0<x1 and dx<=0\")\n",
    "        \n",
    "    # generate range list\n",
    "    range_list = []\n",
    "    x = x0\n",
    "    while x < x1:\n",
    "        range_list.append(sympy.Number(x))\n",
    "        x += dx\n",
    "    return range_list"
   ]
  },
  {
   "cell_type": "markdown",
   "metadata": {},
   "source": [
    "Define constants for TlF:"
   ]
  },
  {
   "cell_type": "code",
   "execution_count": 18,
   "metadata": {},
   "outputs": [],
   "source": [
    "half = sympy.Rational(1,2)\n",
    "\n",
    "Jmax = sympy.Integer(6) # max J value in Hamiltonian\n",
    "I_Tl = half             # I1 in Ramsey's notation\n",
    "I_F  = half             # I2 in Ramsey's notation\n",
    "\n",
    "Brot = sympy.symbols('Brot')\n",
    "c1, c2, c3, c4 = sympy.symbols('c1 c2 c3 c4')\n",
    "D_TlF = sympy.symbols('D_TlF')\n",
    "mu_J, mu_Tl, mu_F = sympy.symbols('mu_J mu_Tl mu_F')"
   ]
  },
  {
   "cell_type": "markdown",
   "metadata": {},
   "source": [
    " Write down the basis as a list of `BasisState` components:"
   ]
  },
  {
   "cell_type": "code",
   "execution_count": 19,
   "metadata": {},
   "outputs": [],
   "source": [
    "QN = [BasisState(J,mJ,I_Tl,m1,I_F,m2)\n",
    "      for J  in ni_range(0, Jmax+1)\n",
    "      for mJ in ni_range(-J,J+1)\n",
    "      for m1 in ni_range(-I_Tl,I_Tl+1)\n",
    "      for m2 in ni_range(-I_F,I_F+1)\n",
    "     ]"
   ]
  },
  {
   "cell_type": "markdown",
   "metadata": {},
   "source": [
    "The field-free and Stark/Zeeman components of the Hamiltonian then have the matrix elements (evaluate using `multiprocessing` to speed things up)"
   ]
  },
  {
   "cell_type": "code",
   "execution_count": 20,
   "metadata": {},
   "outputs": [
    {
     "name": "stdout",
     "output_type": "stream",
     "text": [
      "Wall time: 5min 27s\n"
     ]
    }
   ],
   "source": [
    "%%time\n",
    "\n",
    "def HMatElems(H, QN=QN):\n",
    "    result = sympy.zeros(len(QN),len(QN))\n",
    "    for i,a in enumerate(QN):\n",
    "        for j,b in enumerate(QN):\n",
    "            result[i,j] = (1*a)@H(b)\n",
    "    return result\n",
    "\n",
    "H_ops = [Hff, HSx, HSy, HSz, HZx, HZy, HZz]\n",
    "Hff_m, HSx_m, HSy_m, HSz_m, HZx_m, HZy_m, HZz_m = map(HMatElems, H_ops)"
   ]
  },
  {
   "cell_type": "markdown",
   "metadata": {},
   "source": [
    "Store the result of the calculation as text files and Python `pickle`s:"
   ]
  },
  {
   "cell_type": "code",
   "execution_count": 35,
   "metadata": {},
   "outputs": [],
   "source": [
    "with open(\"hamiltonians.py\", 'wb') as f:\n",
    "    pickle.dump(\n",
    "        {\n",
    "            \"Hff\" : Hff_m,\n",
    "            \"HSx\" : HSx_m,\n",
    "            \"HSy\" : HSy_m,\n",
    "            \"HSz\" : HSz_m,\n",
    "            \"HZx\" : HZx_m,\n",
    "            \"HZy\" : HZy_m,\n",
    "            \"HZz\" : HZz_m,\n",
    "        },\n",
    "        f\n",
    "    )"
   ]
  },
  {
   "cell_type": "code",
   "execution_count": 36,
   "metadata": {},
   "outputs": [],
   "source": [
    "with open(\"hamiltonians.txt\", 'w') as f:\n",
    "    f.write(\n",
    "        str(\n",
    "            {\n",
    "                \"Hff\" : Hff_m,\n",
    "                \"HSx\" : HSx_m,\n",
    "                \"HSy\" : HSy_m,\n",
    "                \"HSz\" : HSz_m,\n",
    "                \"HZx\" : HZx_m,\n",
    "                \"HZy\" : HZy_m,\n",
    "                \"HZz\" : HZz_m,\n",
    "            }\n",
    "        )\n",
    "    )"
   ]
  }
 ],
 "metadata": {
  "kernelspec": {
   "display_name": "Python 3",
   "language": "python",
   "name": "python3"
  },
  "language_info": {
   "codemirror_mode": {
    "name": "ipython",
    "version": 3
   },
   "file_extension": ".py",
   "mimetype": "text/x-python",
   "name": "python",
   "nbconvert_exporter": "python",
   "pygments_lexer": "ipython3",
   "version": "3.6.5"
  }
 },
 "nbformat": 4,
 "nbformat_minor": 2
}
