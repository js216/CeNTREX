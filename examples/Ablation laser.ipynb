{
 "cells": [
  {
   "cell_type": "markdown",
   "metadata": {},
   "source": [
    "# Ablation laser\n",
    "\n",
    "Pulse energy measured with a Thorlabs ES245C Pyroelectric Energy Sensor (Ceramic Coating, 0.185 - 25 µm, 15 J).\n",
    "\n",
    "Import required packages, then connect to the VISA resource manager to find out what the addresses of the laser and the scope are:"
   ]
  },
  {
   "cell_type": "code",
   "execution_count": 5,
   "metadata": {},
   "outputs": [
    {
     "data": {
      "text/plain": [
       "('USB0::0x0699::0x0368::C100692::INSTR', 'ASRL1::INSTR', 'ASRL3::INSTR')"
      ]
     },
     "execution_count": 5,
     "metadata": {},
     "output_type": "execute_result"
    }
   ],
   "source": [
    "import numpy as np\n",
    "import matplotlib.pyplot as plt\n",
    "import visa\n",
    "from time import sleep\n",
    "from importlib import reload\n",
    "from scipy.signal import find_peaks_cwt\n",
    "import h5py\n",
    "\n",
    "import CFR200\n",
    "import Tektronix2014B\n",
    "\n",
    "rm = visa.ResourceManager()\n",
    "rm.list_resources()"
   ]
  },
  {
   "cell_type": "markdown",
   "metadata": {},
   "source": [
    "Set the correct addresses:"
   ]
  },
  {
   "cell_type": "code",
   "execution_count": 6,
   "metadata": {},
   "outputs": [],
   "source": [
    "laser_addr = 'COM3'\n",
    "scope_addr = 'USB0::0x0699::0x0368::C100692::INSTR'"
   ]
  },
  {
   "cell_type": "markdown",
   "metadata": {},
   "source": [
    "### Laser power vs QS–flashlamp delay\n",
    "\n",
    "Set the parameters of the scan:"
   ]
  },
  {
   "cell_type": "code",
   "execution_count": 7,
   "metadata": {},
   "outputs": [],
   "source": [
    "delays  = np.arange(100,250,2)\n",
    "num_acq = 25"
   ]
  },
  {
   "cell_type": "markdown",
   "metadata": {},
   "source": [
    "Turn on the flashlamp and automatic Q-switching, then loop through all the required delays, measuring (then averaging over) the energy of `num_acq` pulses for each value of the delay:"
   ]
  },
  {
   "cell_type": "code",
   "execution_count": null,
   "metadata": {},
   "outputs": [],
   "source": [
    "voltages, std_voltages = [], []\n",
    "\n",
    "with CFR200.CFR200(rm, laser_addr) as laser, \\\n",
    "    Tektronix2014B.Tektronix2014B(rm, scope_addr) as scope:\n",
    "        scope.SetImmedMeasType('pk2pk')\n",
    "        scope.SetAcqState('on')\n",
    "        laser.SetQSF10(10)\n",
    "\n",
    "        laser.ActivateFlashlampAutoFire();\n",
    "        sleep(4)\n",
    "        laser.StartQS()\n",
    "\n",
    "        for delay in delays:\n",
    "            laser.SetQSFlashlampDelay(delay);\n",
    "\n",
    "            # measure pulse energy for num_acq pulses\n",
    "            values = []\n",
    "            for i in range(num_acq):\n",
    "                scope.SetAcqState('on')\n",
    "                sleep(0.5)            \n",
    "                values.append( scope.QueryImmedMeasValue() )\n",
    "            \n",
    "            # calculate mean and stdev\n",
    "            voltages.append(np.mean(values))\n",
    "            std_voltages.append(np.std(values))\n",
    "\n",
    "        laser.StopQS()\n",
    "        laser.StopFlashlampAutoFire();"
   ]
  },
  {
   "cell_type": "markdown",
   "metadata": {},
   "source": [
    "Plot the result in sensible units:"
   ]
  },
  {
   "cell_type": "code",
   "execution_count": null,
   "metadata": {},
   "outputs": [],
   "source": [
    "energies = 1000*np.array(voltages)/8.31\n",
    "std_energies = 1000*np.array(std_voltages)/8.31\n",
    "\n",
    "plt.errorbar(delays, energies, std_energies)\n",
    "plt.xlabel(\"QS–flashlamp delay [us]\")\n",
    "plt.ylabel(\"pulse energy [mJ]\")\n",
    "plt.title(\"test date: 8/9/2018 (flashlamp replaced July 2018)\"+\\\n",
    "          \"\\nmax pulse energy = \" +\\\n",
    "          str( round(energies[np.argmax(energies)],2) ) +\\\n",
    "              \"mJ at \" + str( delays[np.argmax(energies)] ) +\\\n",
    "              \" us of delay\");"
   ]
  },
  {
   "cell_type": "markdown",
   "metadata": {},
   "source": [
    "Store results in an HDF5 file:"
   ]
  },
  {
   "cell_type": "code",
   "execution_count": null,
   "metadata": {},
   "outputs": [],
   "source": [
    "with h5py.File(\"../../data/ablation_laser.hdf5\", \"w\") as f:\n",
    "    grp = f.create_group(\"power vs QS-flashlamp delay\")\n",
    "    dset = grp.create_dataset(\n",
    "        \"test date: 8/9/2018 (flashlamp replaced July 2018)\",\n",
    "        data=[delays, energies, std_energies]    )\n",
    "    dset.attrs[\"xlabel\"] = \"QS–flashlamp delay [us]\"\n",
    "    dset.attrs[\"ylabel\"] = \"pulse energy [mJ]\"\n",
    "    dset.attrs[\"QS freq\"] = \"10 Hz\""
   ]
  },
  {
   "cell_type": "markdown",
   "metadata": {},
   "source": [
    "### Laser power vs Q-switching frequency\n",
    "\n",
    "Set scan parameters:"
   ]
  },
  {
   "cell_type": "code",
   "execution_count": 18,
   "metadata": {},
   "outputs": [],
   "source": [
    "QSff    = np.arange(4,25,1)\n",
    "num_acq = 25"
   ]
  },
  {
   "cell_type": "markdown",
   "metadata": {},
   "source": [
    "Seeing that a QS–flashlamp delay of about 160 ms is optimal, we can now scan over the QS frequency values, again taking `num_acq` measurements for each value in `QSff`:"
   ]
  },
  {
   "cell_type": "code",
   "execution_count": 35,
   "metadata": {},
   "outputs": [],
   "source": [
    "voltages_QSf, std_voltages_QSf = [], []\n",
    "\n",
    "with CFR200.CFR200(rm, laser_addr) as laser, \\\n",
    "    Tektronix2014B.Tektronix2014B(rm, scope_addr) as scope:\n",
    "        scope.SetImmedMeasType('pk2pk')\n",
    "        scope.SetAcqMode('sample')\n",
    "        scope.SetAcqState('on')\n",
    "        laser.SetQSFlashlampDelay(160);\n",
    "        \n",
    "        laser.ActivateFlashlampAutoFire();\n",
    "        sleep(4)\n",
    "        \n",
    "        for QSf in QSff:\n",
    "            laser.SetQSF10(QSf)\n",
    "            laser.StartQS()\n",
    "\n",
    "            values = []\n",
    "            for i in range(num_acq):\n",
    "                scope.SetAcqState('on')\n",
    "                sleep(0.5)            \n",
    "                values.append( scope.QueryImmedMeasValue() )\n",
    "            \n",
    "            laser.StopQS()\n",
    "            \n",
    "            voltages_QSf.append(np.mean(values))\n",
    "            std_voltages_QSf.append(np.std(values))\n",
    "\n",
    "        laser.StopFlashlampAutoFire();"
   ]
  },
  {
   "cell_type": "markdown",
   "metadata": {},
   "source": [
    "Plot the result in sensible units:"
   ]
  },
  {
   "cell_type": "code",
   "execution_count": 36,
   "metadata": {},
   "outputs": [
    {
     "data": {
      "image/png": "[encoded data removed]",
      "text/plain": [
       "<Figure size 432x288 with 1 Axes>"
      ]
     },
     "metadata": {},
     "output_type": "display_data"
    }
   ],
   "source": [
    "plt.errorbar(100/QSff,\n",
    "             1000*np.array(voltages_QSf)/8.31,\n",
    "             yerr=1000*np.array(std_voltages_QSf)/8.31);\n",
    "plt.xlabel(\"QS frequency [Hz]\");\n",
    "plt.ylabel(\"pulse energy [mJ]\");\n",
    "plt.show();"
   ]
  },
  {
   "cell_type": "markdown",
   "metadata": {},
   "source": [
    "### Beam profiling\n",
    "\n",
    "Set laser QS frequency to 25 Hz, and the QS–flashlamp delay to 175 us. Then move a razor blade in front of the laser and measure pulse energy (averaged over as many pulses as fit in the scope screen, i.e. 25 of them) as a function of the blade position."
   ]
  },
  {
   "cell_type": "code",
   "execution_count": null,
   "metadata": {},
   "outputs": [],
   "source": [
    "xx = np.arange(0,80,2.5)\n",
    "\n",
    "voltages_x, std_voltages_x, num_pulses = [], [], []\n",
    "with Tektronix2014B.Tektronix2014B(rm, scope_addr) as scope:\n",
    "        for x in xx:\n",
    "            print(x)\n",
    "            input()\n",
    "            \n",
    "            # measure\n",
    "            scope.SetAcqState('on')\n",
    "            [x, y, xunit, yunit] = scope.get_waveform('CH1')\n",
    "            \n",
    "            # analyze peaks\n",
    "            peaks = y[ find_peaks_cwt(y, [10]) ]\n",
    "            num_pulses.append(len(peaks))\n",
    "            voltages_x.append(np.mean(peaks))\n",
    "            std_voltages_x.append(np.std(peaks))"
   ]
  },
  {
   "cell_type": "code",
   "execution_count": 39,
   "metadata": {},
   "outputs": [
    {
     "data": {
      "image/png": "[encoded data removed]",
      "text/plain": [
       "<Figure size 432x288 with 1 Axes>"
      ]
     },
     "metadata": {},
     "output_type": "display_data"
    }
   ],
   "source": [
    "plt.errorbar(xx, 1000*np.array(voltages_x)/8.31, yerr=1000*np.array(std_voltages_x)/8.31)\n",
    "plt.xlabel(\"razor blade position [um]\");\n",
    "plt.ylabel(\"pulse voltage [V]\");"
   ]
  },
  {
   "cell_type": "markdown",
   "metadata": {},
   "source": [
    "Now translate the razor blade 4 ft away from the laser, and repeat the measurement."
   ]
  },
  {
   "cell_type": "code",
   "execution_count": null,
   "metadata": {},
   "outputs": [],
   "source": [
    "xx2 = np.arange(0,150,2.5)\n",
    "\n",
    "voltages_x2, std_voltages_x2, num_pulses2 = [], [], []\n",
    "with Tektronix2014B.Tektronix2014B(rm, scope_addr) as scope:\n",
    "        for x in xx2:\n",
    "            print(x)\n",
    "            input()\n",
    "                \n",
    "            # measure\n",
    "            scope.SetAcqState('on')\n",
    "            [x, y, xunit, yunit] = scope.get_waveform('CH1')\n",
    "            \n",
    "            # analyze peaks\n",
    "            peaks = y[ find_peaks_cwt(y, [10]) ]\n",
    "            num_pulses2.append(len(peaks))\n",
    "            voltages_x2.append(np.mean(peaks))\n",
    "            std_voltages_x2.append(np.std(peaks))"
   ]
  },
  {
   "cell_type": "code",
   "execution_count": 11,
   "metadata": {},
   "outputs": [
    {
     "data": {
      "image/png": "[encoded data removed]",
      "text/plain": [
       "<Figure size 432x288 with 1 Axes>"
      ]
     },
     "metadata": {},
     "output_type": "display_data"
    }
   ],
   "source": [
    "plt.errorbar(xx2, 1000*np.array(voltages_x2)/8.31, yerr=1000*np.array(std_voltages_x2)/8.31)\n",
    "plt.xlabel(\"razor blade position [um]\");\n",
    "plt.ylabel(\"pulse energy [mJ]\");"
   ]
  },
  {
   "cell_type": "markdown",
   "metadata": {},
   "source": [
    "It seems the beam width has roughly doubled in the 4ft. The beam waist is then, very approximately:\n",
    "\n",
    "$w_0 = \\sqrt{\\frac{z_\\text{R}\\lambda}{\\pi}}\\approx1\\text{mm}$,\n",
    "\n",
    "where $z_\\text{R}\\approx4'$ is the Rayleigh range, and for Nd:YAG, the wavelength is $\\lambda\\approx1064\\text{nm}$."
   ]
  },
  {
   "cell_type": "code",
   "execution_count": null,
   "metadata": {},
   "outputs": [],
   "source": []
  }
 ],
 "metadata": {
  "kernelspec": {
   "display_name": "Python 3",
   "language": "python",
   "name": "python3"
  },
  "language_info": {
   "codemirror_mode": {
    "name": "ipython",
    "version": 3
   },
   "file_extension": ".py",
   "mimetype": "text/x-python",
   "name": "python",
   "nbconvert_exporter": "python",
   "pygments_lexer": "ipython3",
   "version": "3.6.5"
  }
 },
 "nbformat": 4,
 "nbformat_minor": 2
}
