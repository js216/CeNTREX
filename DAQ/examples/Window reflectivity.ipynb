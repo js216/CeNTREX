{
 "cells": [
  {
   "cell_type": "markdown",
   "metadata": {},
   "source": [
    "# Window reflectivity"
   ]
  },
  {
   "cell_type": "code",
   "execution_count": null,
   "metadata": {},
   "outputs": [],
   "source": [
    "theta = np.arange(0,100,10)\n",
    "\n",
    "voltages_x, std_voltages_x, num_pulses = [], [], []\n",
    "with Tektronix2014B.Tektronix2014B(rm, scope_addr) as scope:\n",
    "        for th in theta:\n",
    "            print(x)\n",
    "            input()\n",
    "            \n",
    "            # measure\n",
    "            scope.SetAcqState('on')\n",
    "            [x, y, xunit, yunit] = scope.get_waveform('CH1')\n",
    "            \n",
    "            # analyze peaks\n",
    "            peaks = y[ find_peaks_cwt(y, [10]) ]\n",
    "            num_pulses.append(len(peaks))\n",
    "            voltages_th.append(np.mean(peaks))\n",
    "            std_voltages_th.append(np.std(peaks))"
   ]
  },
  {
   "cell_type": "code",
   "execution_count": null,
   "metadata": {},
   "outputs": [],
   "source": [
    "plt.errorbar(theta, 1000*np.array(voltages_th)/8.31, yerr=1000*np.array(std_voltages_th)/8.31)\n",
    "plt.xlabel(\"angle [deg]\");\n",
    "plt.ylabel(\"pulse energy [mJ]\");"
   ]
  }
 ],
 "metadata": {
  "kernelspec": {
   "display_name": "Python 3",
   "language": "python",
   "name": "python3"
  },
  "language_info": {
   "codemirror_mode": {
    "name": "ipython",
    "version": 3
   },
   "file_extension": ".py",
   "mimetype": "text/x-python",
   "name": "python",
   "nbconvert_exporter": "python",
   "pygments_lexer": "ipython3",
   "version": "3.6.5"
  }
 },
 "nbformat": 4,
 "nbformat_minor": 2
}
