{
 "cells": [
  {
   "cell_type": "code",
   "execution_count": 129,
   "metadata": {},
   "outputs": [
    {
     "name": "stdout",
     "output_type": "stream",
     "text": [
      "[0, 0, 0, 32768, 0, 32768, 6554, 17040, 38666, 17039, 11403, 17039, 63177, 17040, 0, 17230, 492, 17230, 0, 17229, 5742, 17229, 0, 49024, 8116, 16017, 0, 17224, 0, 0, 50306, 1043, 635]\n"
     ]
    }
   ],
   "source": [
    "from pymodbus.client.sync import ModbusSerialClient\n",
    "\n",
    "with ModbusSerialClient(method='rtu', port='COM3',\n",
    "                            stopbits = 1, bytesize = 8, parity = 'E',\n",
    "                            baudrate = 9600) as client:\n",
    "\n",
    "    rr = client.read_input_registers(1, count=33, unit=16)\n",
    "    print(rr.registers)"
   ]
  },
  {
   "cell_type": "code",
   "execution_count": 125,
   "metadata": {},
   "outputs": [],
   "source": [
    "import struct\n",
    "\n",
    "def to_float(b12, b34):\n",
    "    return struct.unpack('f', struct.pack('H', b12)+struct.pack('H', b34))\n",
    "\n",
    "def to_int(b12, b34):\n",
    "    return struct.unpack('i', struct.pack('H', b12)+struct.pack('H', b34))"
   ]
  },
  {
   "cell_type": "code",
   "execution_count": 139,
   "metadata": {},
   "outputs": [
    {
     "name": "stdout",
     "output_type": "stream",
     "text": [
      "(0,)\n",
      "(0,)\n",
      "(0,)\n",
      "(32768,)\n",
      "(0,)\n",
      "(72.05000305175781,)\n",
      "(71.79499816894531,)\n",
      "(71.58699798583984,)\n",
      "(72.48200225830078,)\n",
      "(206.0,)\n",
      "(206.00750732421875,)\n",
      "(205.0,)\n",
      "(205.08761596679688,)\n",
      "(-1.0,)\n",
      "(0.28344500064849854,)\n",
      "(200.0,)\n",
      "(0,)\n",
      "(0,)\n",
      "(50306,)\n",
      "(1043,)\n",
      "(635,)\n"
     ]
    }
   ],
   "source": [
    "# Operating State\n",
    "print( to_int(rr.registers[0], 0) )\n",
    "\n",
    "# Compressor Running\n",
    "print( to_int(rr.registers[1], 0) )\n",
    "\n",
    "# Warning State\n",
    "print( to_int(rr.registers[2], 0) )\n",
    "      \n",
    "# Error State\n",
    "print( to_int(rr.registers[3], 0) )\n",
    "\n",
    "# Alarm State\n",
    "print( to_int(rr.registers[4], 0) )\n",
    "\n",
    "# Coolant In Temp\n",
    "print( to_float(rr.registers[6], rr.registers[7]) )\n",
    "\n",
    "# Coolant Out Temp\n",
    "print( to_float(rr.registers[8], rr.registers[9]) )\n",
    "\n",
    "# Oil Temp\n",
    "print( to_float(rr.registers[10], rr.registers[11]) )\n",
    "\n",
    "# Helium Temp\n",
    "print( to_float(rr.registers[12], rr.registers[13]) )\n",
    "\n",
    "# Low Pressure\n",
    "print( to_float(rr.registers[14], rr.registers[15]) )\n",
    "\n",
    "# Low Pressure Average\n",
    "print( to_float(rr.registers[16], rr.registers[17]) )\n",
    "\n",
    "# High Pressure\n",
    "print( to_float(rr.registers[18], rr.registers[19]) )\n",
    "\n",
    "# High Pressure Average\n",
    "print( to_float(rr.registers[20], rr.registers[21]) )\n",
    "\n",
    "# Delta pressure Average\n",
    "print( to_float(rr.registers[22], rr.registers[23]) )\n",
    "\n",
    "# Motor Current\n",
    "print( to_float(rr.registers[24], rr.registers[25]) )\n",
    "\n",
    "# Hours Of Operation\n",
    "print( to_float(rr.registers[26], rr.registers[27]) )\n",
    "\n",
    "# Pressure Scale\n",
    "print( to_int(rr.registers[28], 0) )\n",
    "\n",
    "# Temperature Scale\n",
    "print( to_int(rr.registers[29], 0) )\n",
    "\n",
    "# Panel Serial Number\n",
    "print( to_int(rr.registers[30], 0) )\n",
    "\n",
    "# Model Major + Minor numbers\n",
    "print( to_int(rr.registers[31], 0) )\n",
    "\n",
    "# Software Rev\n",
    "print( to_int(rr.registers[32], 0) )"
   ]
  },
  {
   "cell_type": "code",
   "execution_count": null,
   "metadata": {},
   "outputs": [],
   "source": []
  }
 ],
 "metadata": {
  "kernelspec": {
   "display_name": "Python 3",
   "language": "python",
   "name": "python3"
  },
  "language_info": {
   "codemirror_mode": {
    "name": "ipython",
    "version": 3
   },
   "file_extension": ".py",
   "mimetype": "text/x-python",
   "name": "python",
   "nbconvert_exporter": "python",
   "pygments_lexer": "ipython3",
   "version": "3.6.5"
  }
 },
 "nbformat": 4,
 "nbformat_minor": 2
}
