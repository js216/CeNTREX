{
 "cells": [
  {
   "cell_type": "markdown",
   "metadata": {},
   "source": [
    "# TlF ground state spectrum\n",
    "\n",
    "Using the Hamiltonian from Table 1 of [D.A. Wilkening, N.F. Ramsey, and D.J. Larson, Phys Rev A **29**, 425 (1984)](https://journals.aps.org/pra/abstract/10.1103/PhysRevA.29.425).\n",
    "\n",
    "![ramsey1](ramsey1.png)\n",
    "\n",
    "First import necessary Python packages, and define the constants."
   ]
  },
  {
   "cell_type": "code",
   "execution_count": 1,
   "metadata": {},
   "outputs": [],
   "source": [
    "import numpy as np\n",
    "from numpy import sqrt\n",
    "import matplotlib.pyplot as plt"
   ]
  },
  {
   "cell_type": "code",
   "execution_count": 26,
   "metadata": {},
   "outputs": [],
   "source": [
    "# Units and constants\n",
    "\n",
    "Jmax = 6      # max J value in Hamiltonian\n",
    "I_Tl = 1/2    # I1 in Ramsey's notation\n",
    "I_F = 1/2     # I2 in Ramsey's notation\n",
    "\n",
    "# TlF constants. Data from D.A. Wilkening, N.F. Ramsey,\n",
    "# and D.J. Larson, Phys Rev A 29, 425 (1984). Everything in Hz.\n",
    "\n",
    "Brot = 6689920000\n",
    "c1 = 126030.0\n",
    "c2 = 17890.0\n",
    "c3 = 700.0\n",
    "c4 = -13300.0\n",
    "\n",
    "D_TlF = 4.2282 * 0.393430307 *5.291772e-9/4.135667e-15 # [Hz/(V/cm)]\n",
    "\n",
    "# Constants from Wilkening et al, in Hz/Gauss, for 205Tl\n",
    "\n",
    "mu_J = 35\n",
    "mu_Tl = 1240.5\n",
    "mu_F = 2003.63"
   ]
  },
  {
   "cell_type": "markdown",
   "metadata": {},
   "source": [
    "### Representing the states\n",
    "\n",
    "A state, in general, can be written as a weighted superposition of the basis states. We work in the basis $|J, m_J, I_1, m_1, I_2, m_2\\rangle$.\n",
    "\n",
    "The operations we can define on the basis states are:\n",
    "\n",
    "- construction: e.g. calling `BasisState(QN)` creates a basis state with quantum numbers `QN = (J, mJ, I1, m1, I2, m2)`;\n",
    "- equality testing;\n",
    "- inner product, returning either 0 or 1;\n",
    "- superposition and scalar multiplication, returning a `State` object\n",
    "- a convenience function to print out all quantum numbers"
   ]
  },
  {
   "cell_type": "code",
   "execution_count": 3,
   "metadata": {},
   "outputs": [],
   "source": [
    "class BasisState:\n",
    "    # constructor\n",
    "    def __init__(self, J, mJ, I1, m1, I2, m2):\n",
    "        self.J, self.mJ  = J, mJ\n",
    "        self.I1, self.m1 = I1, m1\n",
    "        self.I2, self.m2 = I2, m2\n",
    "\n",
    "    # equality testing\n",
    "    def __eq__(self, other):\n",
    "        return self.J==other.J and self.mJ==other.mJ \\\n",
    "                    and self.I1==other.I1 and self.I2==other.I2 \\\n",
    "                    and self.m1==other.m1 and self.m2==other.m2\n",
    "\n",
    "    # inner product\n",
    "    def __matmul__(self, other):\n",
    "        if self == other:\n",
    "            return 1\n",
    "        else:\n",
    "            return 0\n",
    "\n",
    "    # superposition: addition\n",
    "    def __add__(self, other):\n",
    "        if self == other:\n",
    "            return State([ (2,self) ])\n",
    "        else:\n",
    "            return State([ (1,self), (1,other) ])\n",
    "\n",
    "    # superposition: subtraction\n",
    "    def __sub__(self, other):\n",
    "        return self + -1*other\n",
    "\n",
    "    # scalar product (psi * a)\n",
    "    def __mul__(self, a):\n",
    "        return State([ (a, self) ])\n",
    "\n",
    "    # scalar product (a * psi)\n",
    "    def __rmul__(self, a):\n",
    "        return self * a\n",
    "    \n",
    "    def print_quantum_numbers(self):\n",
    "        print( self.J,\"%+d\"%self.mJ,\"%+0.1f\"%self.m1,\"%+0.1f\"%self.m2 )"
   ]
  },
  {
   "cell_type": "markdown",
   "metadata": {},
   "source": [
    "A general state `State` can have any number of components, so let's represent it as an list of pairs `(amp, psi)`, where `amp` is the relative amplitude of a component, and `psi` is a basis state. The same component must not appear twice on the list.\n",
    "\n",
    "There are three operations we can define on the states:\n",
    "\n",
    "- construction\n",
    "- superposition: concatenate component arrays and return a `State`\n",
    "- scalar multiplication `a * psi` and `psi * a`, division, negation\n",
    "- component-wise inner product `psi1 @ psi2`, where `psi1` is a bra, and `psi2` a ket, returning a complex number\n",
    "\n",
    "In addition, I define an iterator method to loop through the components, and the `__getitem__()` method to access the components (which are not necessarily in any particular order!). See [Classes/Iterators](https://docs.python.org/3/tutorial/classes.html#iterators) for details."
   ]
  },
  {
   "cell_type": "code",
   "execution_count": 4,
   "metadata": {},
   "outputs": [],
   "source": [
    "class State:\n",
    "    # constructor\n",
    "    def __init__(self, data=[], remove_zero_amp_cpts=True):\n",
    "        # check for duplicates\n",
    "        for i in range(len(data)):\n",
    "            amp1,cpt1 = data[i][0], data[i][1]\n",
    "            for amp2,cpt2 in data[i+1:]:\n",
    "                if cpt1 == cpt2:\n",
    "                    raise AssertionError(\"duplicate components!\")\n",
    "        # remove components with zero amplitudes\n",
    "        if remove_zero_amp_cpts:\n",
    "            self.data = [(amp,cpt) for amp,cpt in data if amp!=0]\n",
    "        else:\n",
    "            self.data = data\n",
    "        # for iteration over the State\n",
    "        self.index = len(self.data)\n",
    "\n",
    "    # superposition: addition\n",
    "    # (highly inefficient and ugly but should work)\n",
    "    def __add__(self, other):\n",
    "        data = []\n",
    "        # add components that are in self but not in other\n",
    "        for amp1,cpt1 in self.data:\n",
    "            only_in_self = True\n",
    "            for amp2,cpt2 in other.data:\n",
    "                if cpt2 == cpt1:\n",
    "                    only_in_self = False\n",
    "            if only_in_self:\n",
    "                data.append((amp1,cpt1))\n",
    "        # add components that are in other but not in self\n",
    "        for amp1,cpt1 in other.data:\n",
    "            only_in_other = True\n",
    "            for amp2,cpt2 in self.data:\n",
    "                if cpt2 == cpt1:\n",
    "                    only_in_other = False\n",
    "            if only_in_other:\n",
    "                data.append((amp1,cpt1))\n",
    "        # add components that are both in self and in other\n",
    "        for amp1,cpt1 in self.data:\n",
    "            for amp2,cpt2 in other.data:\n",
    "                if cpt2 == cpt1:\n",
    "                    data.append((amp1+amp2,cpt1))\n",
    "        return State(data)\n",
    "                \n",
    "    # superposition: subtraction\n",
    "    def __sub__(self, other):\n",
    "        return self + -1*other\n",
    "\n",
    "    # scalar product (psi * a)\n",
    "    def __mul__(self, a):\n",
    "        return State( [(a*amp,psi) for amp,psi in self.data] )\n",
    "\n",
    "    # scalar product (a * psi)\n",
    "    def __rmul__(self, a):\n",
    "        return self * a\n",
    "    \n",
    "    # scalar division (psi / a)\n",
    "    def __truediv__(self, a):\n",
    "        return self * (1/a)\n",
    "    \n",
    "    # negation\n",
    "    def __neg__(self):\n",
    "        return -1.0 * self\n",
    "    \n",
    "    # inner product\n",
    "    def __matmul__(self, other):\n",
    "        result = 0\n",
    "        for amp1,psi1 in self.data:\n",
    "            for amp2,psi2 in other.data:\n",
    "                result += amp1.conjugate()*amp2 * (psi1@psi2)\n",
    "        return result\n",
    "\n",
    "    # iterator methods\n",
    "    def __iter__(self):\n",
    "        return self\n",
    "    \n",
    "    def __next__(self):\n",
    "        if self.index == 0:\n",
    "            raise StopIteration\n",
    "        self.index -= 1\n",
    "        return self.data[self.index]\n",
    "    \n",
    "    # direct access to a component\n",
    "    def __getitem__(self, i):\n",
    "        return self.data[i]"
   ]
  },
  {
   "cell_type": "markdown",
   "metadata": {},
   "source": [
    "### Operators in Python\n",
    "\n",
    "Define QM operators as Python functions that take `BasisState` objects, and return `State` objects. Since we are interested in finding matrix elements, we only need the action of operators on the basis states (but it'd be easy to generalize using a `for` loop).\n",
    "\n",
    "The easiest operators to define are the diagonal ones $J^2, J_z, I_{1z}, I_{2z}$, which just multiply the state by their eigenvalue:"
   ]
  },
  {
   "cell_type": "code",
   "execution_count": 5,
   "metadata": {},
   "outputs": [],
   "source": [
    "def J2(psi):\n",
    "    return State([(psi.J*(psi.J+1),psi)])\n",
    "\n",
    "def Jz(psi):\n",
    "    return State([(psi.mJ,psi)])\n",
    "\n",
    "def I1z(psi):\n",
    "    return State([(psi.m1,psi)])\n",
    "\n",
    "def I2z(psi):\n",
    "    return State([(psi.m2,psi)])"
   ]
  },
  {
   "cell_type": "markdown",
   "metadata": {},
   "source": [
    "The other angular momentum operators we can obtain through the ladder operators\n",
    "\n",
    "$$ J_\\pm=J_x\\pm iJ_y. $$\n",
    "\n",
    "These are defined through their action on the basis states as (Sakurai eqns 3.5.39-40)\n",
    "\n",
    "$$ J_\\pm|J,m\\rangle=\\sqrt{(j\\mp m)(j\\pm m+1)}|jm\\pm1\\rangle. $$\n",
    "\n",
    "Similarly, $I_{1\\pm},I_{2\\pm}$ act on the $|I_1,m_1\\rangle$ and $|I_2,m_2\\rangle$ subspaces in the same way."
   ]
  },
  {
   "cell_type": "code",
   "execution_count": 6,
   "metadata": {},
   "outputs": [],
   "source": [
    "def Jp(psi):\n",
    "    amp = sqrt((psi.J-psi.mJ)*(psi.J+psi.mJ+1))\n",
    "    ket = BasisState(psi.J, psi.mJ+1, psi.I1, psi.m1, psi.I2, psi.m2)\n",
    "    return State([(amp,ket)])\n",
    "\n",
    "def Jm(psi):\n",
    "    amp = sqrt((psi.J+psi.mJ)*(psi.J-psi.mJ+1))\n",
    "    ket = BasisState(psi.J, psi.mJ-1, psi.I1, psi.m1, psi.I2, psi.m2)\n",
    "    return State([(amp,ket)])\n",
    "\n",
    "def I1p(psi):\n",
    "    amp = sqrt((psi.I1-psi.m1)*(psi.I1+psi.m1+1))\n",
    "    ket = BasisState(psi.J, psi.mJ, psi.I1, psi.m1+1, psi.I2, psi.m2)\n",
    "    return State([(amp,ket)])\n",
    "\n",
    "def I1m(psi):\n",
    "    amp = sqrt((psi.I1+psi.m1)*(psi.I1-psi.m1+1))\n",
    "    ket = BasisState(psi.J, psi.mJ, psi.I1, psi.m1-1, psi.I2, psi.m2)\n",
    "    return State([(amp,ket)])\n",
    "\n",
    "def I2p(psi):\n",
    "    amp = sqrt((psi.I2-psi.m2)*(psi.I2+psi.m2+1))\n",
    "    ket = BasisState(psi.J, psi.mJ, psi.I1, psi.m1, psi.I2, psi.m2+1)\n",
    "    return State([(amp,ket)])\n",
    "\n",
    "def I2m(psi):\n",
    "    amp = sqrt((psi.I2+psi.m2)*(psi.I2-psi.m2+1))\n",
    "    ket = BasisState(psi.J, psi.mJ, psi.I1, psi.m1, psi.I2, psi.m2-1)\n",
    "    return State([(amp,ket)])"
   ]
  },
  {
   "cell_type": "markdown",
   "metadata": {},
   "source": [
    "In terms of the above-defined ladder operators, we can write\n",
    "\n",
    "$$J_x=\\frac{1}{2}(J_++J_-);\\quad\n",
    "J_y=\\frac{1}{2i}(J_+-J_-),$$\n",
    "\n",
    "and similarly for $I_{1x}, I_{1y}$ and $I_{2x}, I_{2y}$."
   ]
  },
  {
   "cell_type": "code",
   "execution_count": 7,
   "metadata": {},
   "outputs": [],
   "source": [
    "def Jx(psi):\n",
    "    return .5*( Jp(psi) + Jm(psi) )\n",
    "\n",
    "def Jy(psi):\n",
    "    return -.5j*( Jp(psi) - Jm(psi) )\n",
    "\n",
    "def I1x(psi):\n",
    "    return .5*( I1p(psi) + I1m(psi) )\n",
    "\n",
    "def I1y(psi):\n",
    "    return -.5j*( I1p(psi) - I1m(psi) )\n",
    "\n",
    "def I2x(psi):\n",
    "    return .5*( I2p(psi) + I2m(psi) )\n",
    "\n",
    "def I2y(psi):\n",
    "    return -.5j*( I2p(psi) - I2m(psi) )"
   ]
  },
  {
   "cell_type": "markdown",
   "metadata": {},
   "source": [
    "### Composition of operators\n",
    "\n",
    "All operators defined above can only accept `BasisStates` as their inputs, and they all return `States` as output. To allow composition of operators,\n",
    "\n",
    "$$\\hat A\\hat B|\\psi\\rangle=\\hat A(\\hat B(|\\psi\\rangle)),$$\n",
    "\n",
    "define the following function."
   ]
  },
  {
   "cell_type": "code",
   "execution_count": 8,
   "metadata": {},
   "outputs": [],
   "source": [
    "def com(A, B, psi):\n",
    "    ABpsi = State()\n",
    "    # operate with A on all components in B|psi>\n",
    "    for amp,cpt in B(psi):\n",
    "        ABpsi += amp * A(cpt)\n",
    "    return ABpsi"
   ]
  },
  {
   "cell_type": "markdown",
   "metadata": {},
   "source": [
    "### Rotational term\n",
    "\n",
    "The simplest term in the Hamiltonian simply gives the rotational levels:\n",
    "\n",
    "$$H_\\text{rot}=B_\\text{rot}\\vec J^2.$$"
   ]
  },
  {
   "cell_type": "code",
   "execution_count": 9,
   "metadata": {},
   "outputs": [],
   "source": [
    "def Hrot(psi):\n",
    "    return Brot * J2(psi)"
   ]
  },
  {
   "cell_type": "markdown",
   "metadata": {},
   "source": [
    "### Terms with ang. momentum dot products\n",
    "\n",
    "Note that the dot product of two angular momentum operators can be written in terms of the ladder operators as\n",
    "\n",
    "$$\\vec A\\cdot\\vec B=A_zB_z+\\frac{1}{2}(A_+B_-+A_-B_+).$$\n",
    "\n",
    "We have the following terms (from Table 1 of Ramsey's paper):\n",
    "\n",
    "$$\n",
    "H_\\text{c1}=c_1\\vec I_1\\cdot\\vec J;\\quad\n",
    "H_\\text{c2}=c_2\\vec I_2\\cdot\\vec J;\\quad\n",
    "H_\\text{c4}=c_4\\vec I_1\\cdot\\vec I_2\\\\\n",
    "H_\\text{c3a}=15c_3\\frac{(\\vec I_1\\cdot\\vec J)(\\vec I_2\\cdot\\vec J)}{(2J+3)(2J-1)}\n",
    "=\\frac{15c_3}{c_1c_2}\\frac{H_\\text{c1}H_\\text{c2}}{(2J+3)(2J-1)}\\\\\n",
    "H_\\text{c3b}=15c_3\\frac{(\\vec I_2\\cdot\\vec J)(\\vec I_1\\cdot\\vec J)}{(2J+3)(2J-1)}\n",
    "=\\frac{15c_3}{c_1c_2}\\frac{H_\\text{c2}H_\\text{c1}}{(2J+3)(2J-1)}\\\\\n",
    "H_\\text{c3c}=-10c_3\\frac{(\\vec I_1\\cdot\\vec I_2)\\vec J^2}{(2J+3)(2J-1)}\n",
    "=\\frac{-10c_3}{c_4 B_\\text{rot}}\\frac{H_\\text{c4}H_\\text{rot}}{(2J+3)(2J-1)}\n",
    "$$"
   ]
  },
  {
   "cell_type": "code",
   "execution_count": 10,
   "metadata": {},
   "outputs": [],
   "source": [
    "def Hc1(psi):\n",
    "    return c1 * ( com(I1z,Jz,psi) + .5*(com(I1p,Jm,psi)+com(I1m,Jp,psi)) )\n",
    "\n",
    "def Hc2(psi):\n",
    "    return c2 * ( com(I2z,Jz,psi) + .5*(com(I2p,Jm,psi)+com(I2m,Jp,psi)) )\n",
    "\n",
    "def Hc4(psi):\n",
    "    return c4 * ( com(I1z,I2z,psi) + .5*(com(I1p,I2m,psi)+com(I1m,I2p,psi)) )\n",
    "\n",
    "def Hc3a(psi):\n",
    "    return 15*c3/c1/c2 * com(Hc1,Hc2,psi) / ((2*psi.J+3)*(2*psi.J-1))\n",
    "\n",
    "def Hc3b(psi):\n",
    "    return 15*c3/c1/c2 * com(Hc2,Hc1,psi) / ((2*psi.J+3)*(2*psi.J-1))\n",
    "\n",
    "def Hc3c(psi):\n",
    "    return -10*c3/c4/Brot * com(Hc4,Hrot,psi) / ((2*psi.J+3)*(2*psi.J-1))"
   ]
  },
  {
   "cell_type": "markdown",
   "metadata": {},
   "source": [
    "The overall field-free Hamiltonian is"
   ]
  },
  {
   "cell_type": "code",
   "execution_count": 11,
   "metadata": {},
   "outputs": [],
   "source": [
    "def Hff(psi):\n",
    "    return Hrot(psi) + Hc1(psi) + Hc2(psi) + Hc3a(psi) + Hc3b(psi) \\\n",
    "            + Hc3c(psi) + Hc4(psi)"
   ]
  },
  {
   "cell_type": "markdown",
   "metadata": {},
   "source": [
    "### Zeeman Hamiltonian\n",
    "\n",
    "In order to separate the task of finding the matrix elements and the eigenvalues, the Hamiltonian\n",
    "\n",
    "$$H^\\text{Z}=-\\frac{\\mu_J}{J}(\\vec J\\cdot\\vec B)-\\frac{\\mu_1}{I_1}(\\vec I_1\\cdot\\vec B)-\\frac{\\mu_2}{I_2}(\\vec I_2\\cdot\\vec B)$$\n",
    "\n",
    "is best split into three matrices:\n",
    "\n",
    "$$H^\\text{Z}=B_xH^\\text{Z}_x+B_yH^\\text{Z}_y+B_zH^\\text{Z}_z,$$\n",
    "\n",
    "where\n",
    "\n",
    "$$ H^\\text{Z}_x = -\\frac{\\mu_J}{J}J_x -\\frac{\\mu_1}{I_1}I_{1x} -\\frac{\\mu_2}{I_2}I_{2x} $$\n",
    "$$ H^\\text{Z}_y = -\\frac{\\mu_J}{J}J_y -\\frac{\\mu_1}{I_1}I_{1y} -\\frac{\\mu_2}{I_2}I_{2y} $$\n",
    "$$ H^\\text{Z}_z = -\\frac{\\mu_J}{J}J_z -\\frac{\\mu_1}{I_1}I_{1z} -\\frac{\\mu_2}{I_2}I_{2z} $$\n",
    "\n",
    "Note that we are using the convention $\\mu_1=\\mu_\\text{Tl}$ and $\\mu_2=\\mu_\\text{F}$. The terms involving division by $J$ are only valid for states with $J\\ne0$ (of course!)."
   ]
  },
  {
   "cell_type": "code",
   "execution_count": 12,
   "metadata": {},
   "outputs": [],
   "source": [
    "def HZx(psi):\n",
    "    if psi.J != 0:\n",
    "        return -mu_J/psi.J*Jx(psi) - mu_Tl/psi.I1*I1x(psi) - mu_F/psi.I2*I2x(psi)\n",
    "    else:\n",
    "        return -mu_Tl/psi.I1*I1x(psi) - mu_F/psi.I2*I2x(psi)\n",
    "\n",
    "def HZy(psi):\n",
    "    if psi.J != 0:\n",
    "        return -mu_J/psi.J*Jy(psi) - mu_Tl/psi.I1*I1y(psi) - mu_F/psi.I2*I2y(psi)\n",
    "    else:\n",
    "        return -mu_Tl/psi.I1*I1y(psi) - mu_F/psi.I2*I2y(psi)\n",
    "    \n",
    "def HZz(psi):\n",
    "    if psi.J != 0:\n",
    "        return -mu_J/psi.J*Jz(psi) - mu_Tl/psi.I1*I1z(psi) - mu_F/psi.I2*I2z(psi)\n",
    "    else:\n",
    "        return -mu_Tl/psi.I1*I1z(psi) - mu_F/psi.I2*I2z(psi)"
   ]
  },
  {
   "cell_type": "markdown",
   "metadata": {},
   "source": [
    "### Stark Hamiltonian\n",
    "\n",
    "Again splitting the Hamiltonian into the three spatial components, we have\n",
    "\n",
    "$$H^\\text{S}=-\\vec d\\cdot\\vec E\n",
    "=E_xH^\\text{S}_x+E_yH^\\text{S}_y+E_zH^\\text{S}_z.$$\n",
    "\n",
    "To find the effect of the electric dipole operators (written in terms of the spherical harmonics)\n",
    "\n",
    "$$\\vec d\n",
    "=d_\\text{TlF}\\begin{pmatrix}\\hat d_x\\\\\\hat d_y\\\\\\hat d_z\\end{pmatrix}\n",
    "=d_\\text{TlF}\\begin{pmatrix}\\sin\\theta\\cos\\phi\\\\\\sin\\theta\\sin\\phi\\\\\\cos\\theta\\end{pmatrix}\n",
    "=d_\\text{TlF}\\sqrt{\\frac{2\\pi}{3}}\\begin{pmatrix}\n",
    "Y_1^{-1}-Y_1^1\\\\\n",
    "i(Y_1^{-1}+Y_1^1)\\\\\n",
    "\\sqrt2Y_1^0\\end{pmatrix}$$\n",
    "\n",
    "on the eigenstates $|J,m,\\ldots\\rangle$, we need to find their matrix elements. The wavefunctions are $\\langle\\theta,\\phi|J,m\\rangle=Y_J^m$, so the matrix elements of the spherical harmonics are\n",
    "\n",
    "$$\n",
    "\\langle J',m'|Y_1^M||J,m\\rangle\n",
    "=\\int(Y_{J'}^{m'})^*Y_1^MY_J^md\\Omega\n",
    "=(-1)^{m}\\int(Y_{J'}^{m'})^*(Y_1^{-M})^*Y_J^md\\Omega.\n",
    "$$\n",
    "\n",
    "According to [Wikipedia](https://en.wikipedia.org/wiki/Clebsch%E2%80%93Gordan_coefficients#Relation_to_spherical_harmonics), this evaluates to\n",
    "\n",
    "$$\n",
    "\\sqrt{\\frac{2\\pi}{3}}\n",
    "\\langle J',m'|Y_1^M||J,m\\rangle\n",
    "=(-1)^{M}\n",
    " \\sqrt{\\frac{(2 J' + 1)}{2(2 J + 1)}}\n",
    "    \\langle J' \\, 0 \\, 1 \\, 0 | J \\, 0 \\rangle\n",
    "    \\langle J' \\, m' \\, 1 \\, -M | J \\, m \\rangle\n",
    "$$\n",
    "\n",
    "This can be partially evaluated using the following Mathematica function:\n",
    "\n",
    "```mathematica\n",
    "coeffs[M_] := Table[(-1)^M Sqrt[(2 Jp + 1)/(2 (2 J + 1))]\n",
    "     ClebschGordan[{Jp, mp}, {1, -M}, {J, m}]\n",
    "     ClebschGordan[{Jp, 0}, {1, 0}, {J, 0}] // FullSimplify,\n",
    "   {mp, {m - 1, m, m + 1}}, {Jp, {J - 1, J + 1}}\n",
    "   ] // MatrixForm\n",
    "```\n",
    "\n",
    "The result for $M=0$ is nonzero for $m'=m$:\n",
    "\n",
    "$$\n",
    "\\begin{aligned}\n",
    "\\sqrt{\\frac{(J-m)(J+m)}{8J^2-2}}&\\quad\\text{for $J'=J-1$}\\\\\n",
    "\\sqrt{\\frac{(J-m+1)(J+m+1)}{6+8J(J+2)}}&\\quad\\text{for $J'=J+1$}\n",
    "\\end{aligned}\n",
    "$$\n",
    "\n",
    "For $M=-1$, we need $m'=m-1$:\n",
    "\n",
    "$$\n",
    "\\begin{aligned}\n",
    "-\\frac{1}{2}\n",
    "\\sqrt{\\frac{(J+m)(J-1+m)}{4J^2-1}}&\\quad\\text{for $J'=J-1$}\\\\\n",
    "\\frac{1}{2}\n",
    "\\sqrt{\\frac{(J+1-m)(J+2-m)}{3+4J(J+2)}}&\\quad\\text{for $J'=J+1$}\n",
    "\\end{aligned}\n",
    "$$\n",
    "\n",
    "For $M=1$, we need $m'=m+1$:\n",
    "\n",
    "$$\n",
    "\\begin{aligned}\n",
    "-\\frac{1}{2}\n",
    "\\sqrt{\\frac{(J-m)(J-1-m)}{4J^2-1}}&\\quad\\text{for $J'=J-1$}\\\\\n",
    "\\frac{1}{2}\n",
    "\\sqrt{\\frac{(J+1+m)(J+2+m)}{3+4J(J+2)}}&\\quad\\text{for $J'=J+1$}\n",
    "\\end{aligned}\n",
    "$$\n",
    "\n",
    "These three cases can be written in Python as the operators:"
   ]
  },
  {
   "cell_type": "code",
   "execution_count": 13,
   "metadata": {},
   "outputs": [],
   "source": [
    "def R10(psi):\n",
    "    amp1 = sqrt((psi.J-psi.mJ)*(psi.J+psi.mJ)/(8*psi.J**2-2))\n",
    "    ket1 = BasisState(psi.J-1, psi.mJ, psi.I1, psi.m1, psi.I2, psi.m2)\n",
    "    amp2 = sqrt((psi.J-psi.mJ+1)*(psi.J+psi.mJ+1)/(6+8*psi.J*(psi.J+2)))\n",
    "    ket2 = BasisState(psi.J+1, psi.mJ, psi.I1, psi.m1, psi.I2, psi.m2)\n",
    "    return State([(amp1,ket1),(amp2,ket2)])\n",
    "\n",
    "def R1m(psi):\n",
    "    amp1 = -.5*sqrt((psi.J+psi.mJ)*(psi.J+psi.mJ-1)/(4*psi.J**2-1))\n",
    "    ket1 = BasisState(psi.J-1, psi.mJ-1, psi.I1, psi.m1, psi.I2, psi.m2)\n",
    "    amp2 = .5*sqrt((psi.J-psi.mJ+1)*(psi.J-psi.mJ+2)/(3+4*psi.J*(psi.J+2)))\n",
    "    ket2 = BasisState(psi.J+1, psi.mJ-1, psi.I1, psi.m1, psi.I2, psi.m2)\n",
    "    return State([(amp1,ket1),(amp2,ket2)])\n",
    "\n",
    "def R1p(psi):\n",
    "    amp1 = -.5*sqrt((psi.J-psi.mJ)*(psi.J-psi.mJ-1)/(4*psi.J**2-1))\n",
    "    ket1 = BasisState(psi.J-1, psi.mJ+1, psi.I1, psi.m1, psi.I2, psi.m2)\n",
    "    amp2 = .5*sqrt((psi.J+psi.mJ+1)*(psi.J+psi.mJ+2)/(3+4*psi.J*(psi.J+2)))\n",
    "    ket2 = BasisState(psi.J+1, psi.mJ+1, psi.I1, psi.m1, psi.I2, psi.m2)\n",
    "    return State([(amp1,ket1),(amp2,ket2)])"
   ]
  },
  {
   "cell_type": "markdown",
   "metadata": {},
   "source": [
    "In terms of the operators\n",
    "\n",
    "$$\n",
    "R^M_1\\equiv\\sqrt{\\frac{2\\pi}{3}}Y_1^M\n",
    "$$\n",
    "\n",
    "and the molecular dipole moment $d_\\text{TlF}$, the three Stark Hamiltonians are\n",
    "\n",
    "$$\n",
    "\\begin{align}\n",
    "H^\\text{S}_x&=-d_\\text{TlF}(R^{-1}_1-R^1_1)\\\\\n",
    "H^\\text{S}_y&=-d_\\text{TlF}i(R^{-1}_1+R^1_1)\\\\\n",
    "H^\\text{S}_z&=-d_\\text{TlF}\\sqrt2R^0_1\n",
    "\\end{align}\n",
    "$$\n",
    "\n",
    "In Python:"
   ]
  },
  {
   "cell_type": "code",
   "execution_count": 14,
   "metadata": {},
   "outputs": [],
   "source": [
    "def HSx(psi):\n",
    "    return -D_TlF * ( R1m(psi) - R1p(psi) )\n",
    "\n",
    "def HSy(psi):\n",
    "    return -D_TlF * 1j * ( R1m(psi) + R1p(psi) )\n",
    "\n",
    "def HSz(psi):\n",
    "    return -D_TlF * sqrt(2)*R10(psi)"
   ]
  },
  {
   "cell_type": "markdown",
   "metadata": {},
   "source": [
    "### An alternative $c_3$ term\n",
    "\n",
    "The $c_3$ term in Ramsey's Hamiltonian assumes that $J$ is a good quantum number, which breaks down at high $E$ field. From [Wikipedia](https://en.wikipedia.org/wiki/Hyperfine_structure#Molecular_hyperfine_structure), we get the term\n",
    "\n",
    "$$\n",
    "H_\\text{c3}^\\text{alt}=\\frac{5}{2}c_3\\left[\n",
    "2\\vec I_1\\vec I_2\n",
    "-3(\\vec I_1\\cdot\\vec{\\hat{R}})(\\vec I_2\\cdot\\vec{\\hat{R}})\n",
    "-3(\\vec I_2\\cdot\\vec{\\hat{R}})(\\vec I_1\\cdot\\vec{\\hat{R}})\n",
    "\\right].\n",
    "$$\n",
    "\n",
    "Write the dot products in the form\n",
    "\n",
    "$$\n",
    "H_\\text{I1R}=\\vec I_1\\cdot\\vec{\\hat{R}}=I_{1z}R_1^0+\\frac{1}{2}(I_{1+}R_1^{-1}+I_{1-}R_1^{1})\\\\\n",
    "H_\\text{I2R}=\\vec I_2\\cdot\\vec{\\hat{R}}=I_{2z}R_1^0+\\frac{1}{2}(I_{2+}R_1^{-1}+I_{2-}R_1^{1}),\n",
    "$$\n",
    "\n",
    "as follows:"
   ]
  },
  {
   "cell_type": "code",
   "execution_count": 15,
   "metadata": {},
   "outputs": [],
   "source": [
    "def HI1R(psi):\n",
    "    return com(I1z,R10,psi) + .5*(com(I1p,R1m,psi)+com(I1m,R1p,psi))\n",
    "\n",
    "def HI2R(psi):\n",
    "    return com(I2z,R10,psi) + .5*(com(I2p,R1m,psi)+com(I2m,R1p,psi))"
   ]
  },
  {
   "cell_type": "markdown",
   "metadata": {},
   "source": [
    "The $c_3$ term becomes\n",
    "\n",
    "$$\n",
    "H_\\text{c3}^\\text{alt}=\\frac{5}{2}c_3\\left[\n",
    "\\frac{2}{c_4}H_\\text{c4}-3H_\\text{I1R}H_\\text{I2R}-3H_\\text{I2R}H_\\text{I1R}\n",
    "\\right].\n",
    "$$\n",
    "\n",
    "In Python:"
   ]
  },
  {
   "cell_type": "code",
   "execution_count": 16,
   "metadata": {},
   "outputs": [],
   "source": [
    "def Hc3_alt(psi):\n",
    "    return 5*c3/c4*Hc4(psi) - 15*c3/2*(com(HI1R,HI2R,psi)+com(HI2R,HI1R,psi))"
   ]
  },
  {
   "cell_type": "markdown",
   "metadata": {},
   "source": [
    "The corresponding alternative field-free Hamiltonian is"
   ]
  },
  {
   "cell_type": "code",
   "execution_count": 17,
   "metadata": {},
   "outputs": [],
   "source": [
    "def Hff_alt(psi):\n",
    "    return Hrot(psi) + Hc1(psi) + Hc2(psi) + Hc3_alt(psi) + Hc4(psi)"
   ]
  },
  {
   "cell_type": "markdown",
   "metadata": {},
   "source": [
    "### Finding the matrix elements\n",
    "\n",
    "With all the operators defined, we can evaluate the matrix elements for a given range of quantum numbers. Write down the basis as a list of `BasisState` components:"
   ]
  },
  {
   "cell_type": "code",
   "execution_count": 18,
   "metadata": {},
   "outputs": [],
   "source": [
    "QN = np.array([BasisState(J,mJ,I_Tl,m1,I_F,m2)\n",
    "      for J in range(Jmax+1)\n",
    "      for mJ in range(-J,J+1)\n",
    "      for m1 in np.arange(-I_Tl,I_Tl+1)\n",
    "      for m2 in np.arange(-I_F,I_F+1)])"
   ]
  },
  {
   "cell_type": "markdown",
   "metadata": {},
   "source": [
    "The field-free and Stark/Zeeman components of the Hamiltonian then have the matrix elements"
   ]
  },
  {
   "cell_type": "code",
   "execution_count": 19,
   "metadata": {},
   "outputs": [
    {
     "name": "stdout",
     "output_type": "stream",
     "text": [
      "Wall time: 1min 2s\n"
     ]
    }
   ],
   "source": [
    "%%time\n",
    "\n",
    "def HMatElems(H, QN):\n",
    "    result = np.empty((len(QN),len(QN)), dtype=complex)\n",
    "    for i,a in enumerate(QN):\n",
    "        for j,b in enumerate(QN):\n",
    "            result[i,j] = (1*a)@H(b)\n",
    "    return result\n",
    "\n",
    "Hff_m = HMatElems(Hff, QN)\n",
    "HSx_m = HMatElems(HSx, QN)\n",
    "HSy_m = HMatElems(HSy, QN)\n",
    "HSz_m = HMatElems(HSz, QN)\n",
    "HZx_m = HMatElems(HZx, QN)\n",
    "HZy_m = HMatElems(HZy, QN)\n",
    "HZz_m = HMatElems(HZz, QN)"
   ]
  },
  {
   "cell_type": "markdown",
   "metadata": {},
   "source": [
    "### Find the energies\n",
    "\n",
    "Above, we have evaluated the matrix elements for the zero-field Hamiltonian $H_\\text{ff}$, as well as the $\\vec E=1=\\vec B$ cases. For general fields $\\vec E,\\vec B$, the Hamiltonian is\n",
    "\n",
    "$$\n",
    "H=H_\\text{ff}\n",
    "+\n",
    "\\begin{pmatrix}\n",
    "E_x\\\\E_y\\\\E_z\n",
    "\\end{pmatrix}\n",
    "\\cdot\n",
    "\\begin{pmatrix}\n",
    "H^\\text{S}_x\\\\H^\\text{S}_y\\\\H^\\text{S}_z\n",
    "\\end{pmatrix}\n",
    "+\n",
    "\\begin{pmatrix}\n",
    "B_x\\\\B_y\\\\B_z\n",
    "\\end{pmatrix}\n",
    "\\cdot\n",
    "\\begin{pmatrix}\n",
    "H^\\text{Z}_x\\\\H^\\text{Z}_y\\\\H^\\text{Z}_z\n",
    "\\end{pmatrix}.\n",
    "$$\n",
    "\n",
    "When looking at the Zeeman/Stark effects on the hyperfine structure, the rotational structure is not of interest, so I subtract it for clarity in the following `spectrum()` function. It evaluates the above Hamiltonian for each point on the array of fields, and returns a list of energy levels, sorted by size:"
   ]
  },
  {
   "cell_type": "code",
   "execution_count": 20,
   "metadata": {},
   "outputs": [],
   "source": [
    "def spectrum(Ex_arr,Ey_arr,Ez_arr,Bx_arr,By_arr,Bz_arr):\n",
    "    energies_arr = []\n",
    "    for Ex,Ey,Ez,Bx,By,Bz in zip(Ex_arr,Ey_arr,Ez_arr,Bx_arr,By_arr,Bz_arr):\n",
    "        HamE = Hff_m + \\\n",
    "            Ex*HSx_m  + Ey*HSy_m + Ez*HSz_m + \\\n",
    "            Bx*HZx_m  + By*HZy_m + Bz*HZz_m\n",
    "        D = np.sort(np.linalg.eigvalsh(HamE))\n",
    "        \n",
    "        # Subtract away rotational energy for easier viewing of substructure\n",
    "        hfs_mat = []\n",
    "        for i,psi in enumerate(QN):\n",
    "            hfs_mat.append(D[i] - psi.J*(psi.J +1)*Brot)\n",
    "        hfs_kHz = np.array(hfs_mat)/1000\n",
    "\n",
    "        energies_arr.append(hfs_kHz)\n",
    "    return np.array(energies_arr)"
   ]
  },
  {
   "cell_type": "markdown",
   "metadata": {},
   "source": [
    "### Test 1: Reproducing Ramsey's Fig. 4\n",
    "\n",
    "That's how it's supposed to look at 18.4 gauss of $B_z$:\n",
    "\n",
    "![ramsey4](ramsey4.png)\n",
    "\n",
    "Evaluate find the energies for $B_z$ of 18.4 gauss, and $E_z$ between 0 and 70 V/cm, and plot the result:"
   ]
  },
  {
   "cell_type": "code",
   "execution_count": 21,
   "metadata": {},
   "outputs": [
    {
     "data": {
      "image/png": "[encoded data removed]",
      "text/plain": [
       "<Figure size 432x576 with 1 Axes>"
      ]
     },
     "metadata": {},
     "output_type": "display_data"
    }
   ],
   "source": [
    "Ez = np.linspace(0,70,100)\n",
    "Bz = 18.4 * np.ones(Ez.shape)\n",
    "Ex = np.zeros(Ez.shape)\n",
    "Ey = np.zeros(Ez.shape)\n",
    "Bx = np.zeros(Ez.shape)\n",
    "By = np.zeros(Ez.shape)\n",
    "\n",
    "energies = spectrum(Ex,Ey,Ez,Bx,By,Bz)\n",
    "\n",
    "for i in range(4,16):\n",
    "    plt.plot(Ez, energies.T[i])\n",
    "    \n",
    "plt.title(\"$J=1$\")\n",
    "plt.xlabel(\"$E_z$ (V/cm)\")\n",
    "plt.ylabel(\"energy (kHz)\")\n",
    "\n",
    "plt.xlim([0,80])\n",
    "plt.ylim([-300,300])\n",
    "\n",
    "fig = plt.gcf()\n",
    "fig.set_size_inches(6, 8)\n",
    "plt.show()"
   ]
  },
  {
   "cell_type": "markdown",
   "metadata": {},
   "source": [
    "### Test 2: Rotating the fields\n",
    "\n",
    "We have seen that the $z$ components of electric and magnetic field reproduce Ramsey's result. (They also match the energy levels calculated by Dave DeMille's Matlab code modulo a typo in his `c3` term.)\n",
    "\n",
    "We should be able to get the same energy levels if we rotate both the electric and the magnetic field by the same angle. Define the rotation matrices:"
   ]
  },
  {
   "cell_type": "code",
   "execution_count": 22,
   "metadata": {},
   "outputs": [],
   "source": [
    "def Rx(theta):\n",
    "    return np.array([[1,0,0],\n",
    "                     [0,np.cos(theta),-np.sin(theta)],\n",
    "                     [0,np.sin(theta),np.cos(theta)]])\n",
    "\n",
    "def Ry(theta):\n",
    "    return np.array([[np.cos(theta),0,np.sin(theta)],\n",
    "                     [0,1,0],\n",
    "                     [-np.sin(theta),0,np.cos(theta)]])\n",
    "\n",
    "def Rz(theta):\n",
    "    return np.array([[np.cos(theta),-np.sin(theta),0],\n",
    "                     [np.sin(theta),np.cos(theta),0],\n",
    "                     [0,0,1]])"
   ]
  },
  {
   "cell_type": "markdown",
   "metadata": {},
   "source": [
    "Start with a constant $B_x$ and a varying $E_x$. Calculate the energies:"
   ]
  },
  {
   "cell_type": "code",
   "execution_count": 23,
   "metadata": {},
   "outputs": [],
   "source": [
    "Ex = np.linspace(0,70,100)\n",
    "Ey = np.zeros(Ex.shape)\n",
    "Ez = np.zeros(Ex.shape)\n",
    "\n",
    "Bx = 18.4*np.ones(Ez.shape)\n",
    "By = np.zeros(Ex.shape)\n",
    "Bz = np.zeros(Ex.shape)\n",
    "\n",
    "energies0 = spectrum(Ex,Ey,Ez,Bx,By,Bz)"
   ]
  },
  {
   "cell_type": "markdown",
   "metadata": {},
   "source": [
    "Rotate both fields by $R_y(\\theta)R_z(\\phi)$ and calculate the energy difference:"
   ]
  },
  {
   "cell_type": "code",
   "execution_count": 24,
   "metadata": {},
   "outputs": [
    {
     "name": "stdout",
     "output_type": "stream",
     "text": [
      "theta\t phi\t delta\n",
      "10.00 \t 10.00 \t -4.518E-05\n",
      "10.00 \t 39.67 \t 4.793E-05\n",
      "10.00 \t 69.33 \t 1.702E-05\n",
      "10.00 \t 99.00 \t 2.812E-06\n",
      "39.67 \t 10.00 \t 6.701E-06\n",
      "39.67 \t 39.67 \t 8.797E-06\n",
      "39.67 \t 69.33 \t -1.672E-06\n",
      "39.67 \t 99.00 \t 5.121E-06\n",
      "69.33 \t 10.00 \t -3.258E-05\n",
      "69.33 \t 39.67 \t -5.852E-05\n",
      "69.33 \t 69.33 \t 3.559E-05\n",
      "69.33 \t 99.00 \t -4.242E-05\n",
      "99.00 \t 10.00 \t -3.176E-05\n",
      "99.00 \t 39.67 \t -2.792E-05\n",
      "99.00 \t 69.33 \t -2.715E-05\n",
      "99.00 \t 99.00 \t -3.482E-05\n"
     ]
    }
   ],
   "source": [
    "print(\"theta\\t phi\\t delta\")\n",
    "\n",
    "for theta in np.pi/180*np.linspace(10,99,4):\n",
    "    for phi in np.pi/180*np.linspace(10,99,4):\n",
    "        # rotate fields\n",
    "        Exr,Eyr,Ezr = Ry(theta)@Rz(phi)@np.array([Ex,Ey,Ez])\n",
    "        Bxr,Byr,Bzr = Ry(theta)@Rz(phi)@np.array([Bx,By,Bz])\n",
    "\n",
    "        # calculate energy difference\n",
    "        energies1 = spectrum(Exr,Eyr,Ezr,Bxr,Byr,Bzr)\n",
    "        print(\"%0.2f\" % (theta*180/np.pi),\n",
    "              \"\\t\", \"%0.2f\" % (phi*180/np.pi),\n",
    "              \"\\t\", \"%0.3E\" % np.sum(energies0-energies1))"
   ]
  },
  {
   "cell_type": "markdown",
   "metadata": {},
   "source": [
    "### Identifying the eigenstates\n",
    "\n",
    "We can also obtain the eigenvectors corresponding to the energies, which allows us to extract the quantum numbers corresponding to each energy level.\n",
    "\n",
    "The function `eigenstates()` will return the energies and eigenstates (as an array of `State` objects) at a given EM field strength, ignoring components with amplitudes less than `epsilon`. Note that the amplitudes of the components of the eigenstates will lose all phase information to facilitate sorting. Unlike `spectrum()`, which takes arrays of field strength, `eigenstates()` only accepts a single field strength."
   ]
  },
  {
   "cell_type": "code",
   "execution_count": 25,
   "metadata": {},
   "outputs": [],
   "source": [
    "def eigenstates(Ex,Ey,Ez,Bx,By,Bz,epsilon=1e-6):\n",
    "    # diagonalize the Hamiltonian\n",
    "    H = Hff_m \\\n",
    "        + Ex*HSx_m + Ey*HSy_m + Ez*HSz_m \\\n",
    "        + Bx*HZx_m + By*HZy_m + Bz*HZz_m\n",
    "    eigvals,eigvecs = np.linalg.eigh(H)\n",
    "    \n",
    "    # find the quantum numbers of the largest-|amplitude| components\n",
    "    states = []\n",
    "    for eigvec in eigvecs.T:\n",
    "        # normalize the largest |amplitude| to 1\n",
    "        eigvec = eigvec / np.max(np.abs(eigvec))\n",
    "        # find indices of the largest-|amplitude| components\n",
    "        major = np.abs(eigvec) > epsilon\n",
    "        \n",
    "        # collect the major components into a State\n",
    "        eigenstate = State()\n",
    "        for amp,psi in zip(eigvec[major], QN[major]):\n",
    "            eigenstate += amp * psi\n",
    "\n",
    "        # sort the components by decreasing |amplitude|\n",
    "        amps = np.array(eigenstate.data).T[0]\n",
    "        cpts = np.array(eigenstate.data).T[1]\n",
    "        cpts = cpts[np.argsort(np.abs(amps))]\n",
    "        amps = amps[np.argsort(np.abs(amps))]\n",
    "        sorted_state = State( data=np.array((amps,cpts)).T )\n",
    "        states.append(sorted_state)\n",
    "        \n",
    "    return eigvals, np.array(states)"
   ]
  },
  {
   "cell_type": "markdown",
   "metadata": {},
   "source": [
    "The convenience function `major_eigenstates()` prints out the energies and quantum numbers for a specified $J$ (by default, for $J=1$), ignoring components less than `epsilon` (by default, `epsilon=.95`).\n",
    "\n",
    "Note that $J$ is determined simply from the order of energies, i.e. $J=0$ corresponds to the first four states, instead of through the eigenvector's components. This is convenient at high fields, where $J$ ceases to be a good quantum number but can still be used to identify the states in an asymptotic sense.\n",
    "\n",
    "Similarly, `largest_eigenstate()` prints out a table of energies and quantum numbers, for only a single component for each eigenstate."
   ]
  },
  {
   "cell_type": "code",
   "execution_count": 26,
   "metadata": {},
   "outputs": [],
   "source": [
    "def largest_eigenstate(Ex,Ey,Ez,Bx,By,Bz,J=1,epsilon=.95):\n",
    "    energies, states = eigenstates(Ex,Ey,Ez,Bx,By,Bz,epsilon=epsilon)\n",
    "    print(\"E [kHz]\\t J, mJ, m1, m2\\n-----------------------\")\n",
    "    for i in reversed(np.arange((2*I_Tl+1)*(2*I_F+1)*J**2,(2*I_Tl+1)*(2*I_F+1)*(J+1)*(J+1))):\n",
    "        print(\"%+0.2f\" % ((energies[int(i)]-J*(J+1)*Brot)/1e3), end='\\t ')\n",
    "        states[int(i)][0][1].print_quantum_numbers()\n",
    "        \n",
    "def major_eigenstates(Ex,Ey,Ez,Bx,By,Bz,J=1,epsilon=.95):\n",
    "    energies, states = eigenstates(Ex,Ey,Ez,Bx,By,Bz,epsilon=epsilon)\n",
    "    for i in reversed(np.arange((2*I_Tl+1)*(2*I_F+1)*J**2,(2*I_Tl+1)*(2*I_F+1)*(J+1)*(J+1))):\n",
    "        print(\"E = %+0.16e\" % ((energies[int(i)]-J*(J+1)*Brot)/1e3),\"kHz\",end='\\n')\n",
    "        for amp,psi in states[int(i)]:\n",
    "            print(\"\\t%+0.3f\"%np.real(amp),\"%+0.3fi\"%np.imag(amp), end=' ')\n",
    "            psi.print_quantum_numbers()"
   ]
  },
  {
   "cell_type": "markdown",
   "metadata": {},
   "source": [
    "### Test 3: Low-field state identification\n",
    "\n",
    "The $J=1$ levels (with applied fields) will have the quantum numbers as given in Ramsey's Table 2:\n",
    "\n",
    "![ramsey2](ramsey2a.png)\n",
    "\n",
    "The function `largest_eigenstate()` defined above can be used to obtain the same prediction:"
   ]
  },
  {
   "cell_type": "code",
   "execution_count": 27,
   "metadata": {},
   "outputs": [
    {
     "name": "stdout",
     "output_type": "stream",
     "text": [
      "E [kHz]\t J, mJ, m1, m2\n",
      "-----------------------\n",
      "+401.16\t 1 +0 -0.5 -0.5\n",
      "+364.60\t 1 +0 +0.5 -0.5\n",
      "+334.26\t 1 +0 -0.5 +0.5\n",
      "+284.15\t 1 +0 +0.5 +0.5\n",
      "-36.60\t 1 -1 -0.5 -0.5\n",
      "-95.30\t 1 +1 +0.5 -0.5\n",
      "-121.72\t 1 -1 -0.5 +0.5\n",
      "-157.27\t 1 +1 +0.5 +0.5\n",
      "-196.39\t 1 +1 -0.5 -0.5\n",
      "-216.56\t 1 -1 +0.5 -0.5\n",
      "-247.92\t 1 +1 -0.5 +0.5\n",
      "-312.48\t 1 -1 +0.5 +0.5\n"
     ]
    }
   ],
   "source": [
    "largest_eigenstate(0,0,70,0,0,18.4,J=1)"
   ]
  },
  {
   "cell_type": "markdown",
   "metadata": {},
   "source": [
    "### Test 4: High-field state identification\n",
    "\n",
    "At high fields, the rotational angular momentum $J$ is no longer a good quantum number, but we can still use it in an asymptotic sense to identify the 4th through 15th lowest eigenstate. Consider Fig. 7 and Table 1 of Hinds's paper:\n",
    "\n",
    "[Cho, Donghyun, K. Sangster, and E. A. Hinds. \"Search for time-reversal-symmetry violation in thallium fluoride using a jet source.\" Physical Review A **44**, no. 5 (1991): 2783.](https://journals.aps.org/pra/abstract/10.1103/PhysRevA.44.2783)\n",
    "\n",
    "![](hinds17.png)\n",
    "\n",
    "The above plot is readily reproduced:"
   ]
  },
  {
   "cell_type": "code",
   "execution_count": 28,
   "metadata": {},
   "outputs": [
    {
     "data": {
      "image/png": "[encoded data removed]",
      "text/plain": [
       "<Figure size 360x432 with 1 Axes>"
      ]
     },
     "metadata": {},
     "output_type": "display_data"
    }
   ],
   "source": [
    "energies, _ = eigenstates(0,0,29.5e3,0,0,0,epsilon=.95)\n",
    "\n",
    "energies /= 1e3\n",
    "epsilon = 1e-3\n",
    "En = np.ones(100)\n",
    "mean = np.mean(energies[4:12])\n",
    "labels = [\"L\",\"I\",\"J,K\",1,\"F,G\",1,\"E,H\"]\n",
    "for i,E in enumerate(energies[4:12]):\n",
    "    if np.abs(E-energies[4+i-1]) < epsilon:\n",
    "        plt.plot(E*En-mean, lw=4, ls='dashed')\n",
    "    else:\n",
    "        plt.plot(E*En-mean, lw=4)\n",
    "        plt.text(101,E-mean,labels[i],fontsize=9)\n",
    "plt.title(r\"$J=1, m\\ne0, E_z=29.5$ kV/cm, $\\vec B=0$\")\n",
    "plt.ylabel(\"energy (MHz)\")\n",
    "plt.xlim([0,110])\n",
    "fig = plt.gcf()\n",
    "fig.set_size_inches(5, 6)\n",
    "plt.show()"
   ]
  },
  {
   "cell_type": "markdown",
   "metadata": {},
   "source": [
    "As explained in the figure's caption in the paper, the pairs (E, H), (F, G), and (J, K) are degenerate doublets, while I and L are split. The function `major_eigenstates()` can give the eigencomponents of these energy levels:"
   ]
  },
  {
   "cell_type": "code",
   "execution_count": 29,
   "metadata": {
    "scrolled": false
   },
   "outputs": [
    {
     "name": "stdout",
     "output_type": "stream",
     "text": [
      "E = -6.1639749832001876e+05 kHz\n",
      "\t-1.000 +0.000i 2 +0 -0.5 +0.5\n",
      "\t+1.000 +0.000i 2 +0 +0.5 -0.5\n",
      "\t+0.889 +0.000i 0 +0 -0.5 +0.5\n",
      "\t-0.889 +0.000i 0 +0 +0.5 -0.5\n",
      "\t-0.541 +0.000i 3 +0 -0.5 +0.5\n",
      "\t+0.541 +0.000i 3 +0 +0.5 -0.5\n",
      "E = -6.1641014898880199e+05 kHz\n",
      "\t-1.000 +0.000i 2 +0 +0.5 -0.5\n",
      "\t-1.000 +0.000i 2 +0 -0.5 +0.5\n",
      "\t+0.889 +0.000i 0 +0 +0.5 -0.5\n",
      "\t+0.889 +0.000i 0 +0 -0.5 +0.5\n",
      "\t-0.541 +0.000i 3 +0 +0.5 -0.5\n",
      "\t-0.541 +0.000i 3 +0 -0.5 +0.5\n",
      "E = -6.1641112293604854e+05 kHz\n",
      "\t-1.000 +0.000i 2 +0 -0.5 -0.5\n",
      "\t+0.889 +0.000i 0 +0 -0.5 -0.5\n",
      "\t-0.541 +0.000i 3 +0 -0.5 -0.5\n",
      "E = -6.1641112293609045e+05 kHz\n",
      "\t-1.000 +0.000i 2 +0 +0.5 +0.5\n",
      "\t+0.889 +0.000i 0 +0 +0.5 +0.5\n",
      "\t-0.541 +0.000i 3 +0 +0.5 +0.5\n",
      "E = -2.1313743032864347e+07 kHz\n",
      "\t-1.000 +0.000i 1 +1 +0.5 +0.5\n",
      "\t-0.759 +0.000i 2 +1 +0.5 +0.5\n",
      "E = -2.1313743032864448e+07 kHz\n",
      "\t-1.000 +0.000i 1 -1 -0.5 -0.5\n",
      "\t-0.759 +0.000i 2 -1 -0.5 -0.5\n",
      "E = -2.1313754065739054e+07 kHz\n",
      "\t+1.000 +0.000i 1 -1 -0.5 +0.5\n",
      "\t+0.759 +0.000i 2 -1 -0.5 +0.5\n",
      "E = -2.1313754065739192e+07 kHz\n",
      "\t-1.000 +0.000i 1 +1 +0.5 -0.5\n",
      "\t-0.759 +0.000i 2 +1 +0.5 -0.5\n",
      "E = -2.1313863046818659e+07 kHz\n",
      "\t-1.000 +0.000i 1 -1 +0.5 -0.5\n",
      "\t-0.759 +0.000i 2 -1 +0.5 -0.5\n",
      "E = -2.1313863046818767e+07 kHz\n",
      "\t+1.000 +0.000i 1 +1 -0.5 +0.5\n",
      "\t+0.759 +0.000i 2 +1 -0.5 +0.5\n",
      "E = -2.1313885096213862e+07 kHz\n",
      "\t+1.000 +0.000i 1 -1 +0.5 +0.5\n",
      "\t+1.000 +0.000i 1 +1 -0.5 -0.5\n",
      "\t+0.759 +0.000i 2 -1 +0.5 +0.5\n",
      "\t+0.759 +0.000i 2 +1 -0.5 -0.5\n",
      "E = -2.1313888809510924e+07 kHz\n",
      "\t+1.000 +0.000i 1 +1 -0.5 -0.5\n",
      "\t-1.000 +0.000i 1 -1 +0.5 +0.5\n",
      "\t+0.759 +0.000i 2 +1 -0.5 -0.5\n",
      "\t-0.759 +0.000i 2 -1 +0.5 +0.5\n"
     ]
    }
   ],
   "source": [
    "major_eigenstates(0,0,29.5e3,0,0,0,J=1,epsilon=.5)"
   ]
  },
  {
   "cell_type": "markdown",
   "metadata": {},
   "source": [
    "These states plotted in the above graph match the states in Ed Hinds's Table 1. Note that $J$ is no longer a good quantum number."
   ]
  }
 ],
 "metadata": {
  "kernelspec": {
   "display_name": "Python 3",
   "language": "python",
   "name": "python3"
  },
  "language_info": {
   "codemirror_mode": {
    "name": "ipython",
    "version": 3
   },
   "file_extension": ".py",
   "mimetype": "text/x-python",
   "name": "python",
   "nbconvert_exporter": "python",
   "pygments_lexer": "ipython3",
   "version": "3.6.5"
  }
 },
 "nbformat": 4,
 "nbformat_minor": 2
}
