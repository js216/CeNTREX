{
 "cells": [
  {
   "cell_type": "code",
   "execution_count": 76,
   "metadata": {},
   "outputs": [
    {
     "name": "stdout",
     "output_type": "stream",
     "text": [
      "('ASRL1::INSTR', 'ASRL4::INSTR', 'ASRL6::INSTR', 'GPIB0::INTFC', 'GPIB0::16::INSTR')\n"
     ]
    }
   ],
   "source": [
    "import pyvisa\n",
    "from time import sleep\n",
    "import matplotlib.pyplot as plt\n",
    "import numpy as np\n",
    "\n",
    "rm = pyvisa.ResourceManager()\n",
    "print(rm.list_resources('?*'))"
   ]
  },
  {
   "cell_type": "code",
   "execution_count": 77,
   "metadata": {},
   "outputs": [],
   "source": [
    "instr = rm.get_instrument('COM4')\n",
    "instr.baud_rate = 19200\n",
    "instr.data_bits = 8\n",
    "instr.parity = pyvisa.constants.Parity.none\n",
    "instr.stop_bits = pyvisa.constants.StopBits.one\n",
    "instr.term_char = '\\r'"
   ]
  },
  {
   "cell_type": "code",
   "execution_count": 78,
   "metadata": {},
   "outputs": [
    {
     "data": {
      "text/plain": [
       "'*01 3.35E-06\\r'"
      ]
     },
     "execution_count": 78,
     "metadata": {},
     "output_type": "execute_result"
    }
   ],
   "source": [
    "instr.write('#01RDS')\n",
    "instr.read_bytes(13).decode('ASCII')"
   ]
  },
  {
   "cell_type": "code",
   "execution_count": 79,
   "metadata": {},
   "outputs": [],
   "source": [
    "instr.close()\n",
    "rm.close()"
   ]
  },
  {
   "cell_type": "code",
   "execution_count": 69,
   "metadata": {},
   "outputs": [],
   "source": [
    "instr = rm.get_instrument('COM1')\n",
    "instr.baud_rate = 9600\n",
    "instr.data_bits = 7\n",
    "instr.parity = pyvisa.constants.Parity.odd\n",
    "instr.stop_bits = pyvisa.constants.StopBits.one\n",
    "instr.term_char = '\\r'"
   ]
  },
  {
   "cell_type": "code",
   "execution_count": 71,
   "metadata": {},
   "outputs": [
    {
     "data": {
      "text/plain": [
       "'+277.30,+277.92,+279.09,+277.14,+276.74,+276.93,+278.84,+277.80\\r\\n'"
      ]
     },
     "execution_count": 71,
     "metadata": {},
     "output_type": "execute_result"
    }
   ],
   "source": [
    "instr.query(\"KRDG?\")"
   ]
  },
  {
   "cell_type": "code",
   "execution_count": null,
   "metadata": {},
   "outputs": [],
   "source": []
  }
 ],
 "metadata": {
  "kernelspec": {
   "display_name": "Python 3",
   "language": "python",
   "name": "python3"
  },
  "language_info": {
   "codemirror_mode": {
    "name": "ipython",
    "version": 3
   },
   "file_extension": ".py",
   "mimetype": "text/x-python",
   "name": "python",
   "nbconvert_exporter": "python",
   "pygments_lexer": "ipython3",
   "version": "3.6.5"
  }
 },
 "nbformat": 4,
 "nbformat_minor": 2
}
